{
  "cells": [
    {
      "cell_type": "markdown",
      "metadata": {
        "id": "mxtkPkd48Zaa"
      },
      "source": [
        "## PART 1 - CROSS-SECTION DATA\n",
        "\n",
        "This part uses the dataset `HPRICE2.RAW` described in `HPRICE2.DES`.\n",
        "\n",
        "---\n",
        "#### **1. State the fundamental hypothesis under which the Ordinary Least Squares (OLS) estimators are unbiased.**"
      ]
    },
    {
      "cell_type": "markdown",
      "metadata": {
        "id": "NAQlwZhH5w7m"
      },
      "source": [
        "Firstly, consider $y$ and $x$ as two variables representing a population. Since the aim is to express the dependent variable $y$ in terms of the explanatory variable $x$, the simple linear regression model is written as:\n",
        "\n",
        "$$\n",
        "y = \\beta_{0} + \\beta_{1} x + u,\n",
        "$$\n",
        "\n",
        "where $u$ represents the disturbance term, also known as the unobserved variable, which captures the effect on $y$ that cannot be explained by $x$. Additionally, $\\beta_{0}$ is the intercept parameter, while $\\beta_{1}$ is referred to as the slope parameter. This is because, when $u$ is held constant such that $\\Delta u = 0$, the change in $y$ is linearly proportional to the change in $x$, *i.e.*,\n",
        "\n",
        "$$\n",
        "\\Delta y = \\beta_{1} \\Delta x.\n",
        "$$\n",
        "\n",
        "To calculate the estimators for $\\beta_{0}$ and $\\beta_{1}$, it is essential to understand the relationship between $u$ and $x$. As a starting point, assume that the expected value of $u$ is zero, *i.e.*,\n",
        "\n",
        "$$\n",
        "E(u) = 0.\n",
        "$$\n",
        "\n",
        "By defining the conditional distribution of $u$ given $x$ and assuming that the expected value of $u$ does not depend on the value of $x$, we derive the following condition:\n",
        "\n",
        "$$\n",
        "E(u|x) = E(u) = 0.\n",
        "$$\n",
        "\n",
        "Finally, substituting this condition into the simple linear regression model and applying the expectation operator, we find:\n",
        "\n",
        "$$\n",
        "E(y|x) = \\beta_{0} + \\beta_{1} x.\n",
        "$$"
      ]
    },
    {
      "cell_type": "markdown",
      "metadata": {
        "id": "4utfJvt_8itl"
      },
      "source": [
        "---\n",
        "#### **2. Show that under this assumption the OLS estimators are indeed unbiased.**"
      ]
    },
    {
      "cell_type": "markdown",
      "metadata": {
        "id": "wy8DAxGV8oMB"
      },
      "source": [
        "To derive the Ordinary Least Squares (OLS) estimators, we take into account $n$ observations $(x_{i}, y_{i})$ for $i = 1, \\cdots, n$, represented as:\n",
        "\n",
        "$$\n",
        "y_{i} = \\beta_{0} + \\beta_{1} x_{i} + u_{i}.\n",
        "$$\n",
        "\n",
        "Using the equation above, we can isolate $u_{i}$ and utilize the fundamental hypothesis to determine the estimators $\\hat \\beta_{0}$ and $\\hat \\beta_{1}$ through the method of moments:\n",
        "\n",
        "$$\n",
        "u_{i} = y_{i} - \\beta_{0} - \\beta_{1} x_{i}\n",
        "$$\n",
        "\n",
        "$$\n",
        "E(u_{i}) = 0 \\iff E(y_{i} - \\beta_{0} - \\beta_{1} x_{i}) = 0\n",
        "\\iff \\frac{1}{n} \\sum_{i=1}^{n}(y_i - \\hat \\beta_0 - \\hat \\beta_1x_i) = 0 \\quad \\quad \\quad \\quad \\quad \\quad \\quad \\quad \\quad (1)\n",
        "$$\n",
        "\n",
        "$$\n",
        "Cov(x, u) = E(xu) = 0 \\iff E(x_{i}(y_{i} - \\beta_{0} - \\beta_{1} x_{i})) = 0\n",
        "\\iff \\frac{1}{n}\\sum_{i=1}^{n}x_i(y_i - \\hat \\beta_0 - \\hat \\beta_1x_i) = 0 \\quad \\quad (2)\n",
        "$$\n",
        "\n",
        "From these equations, we derive the following system, which allows us to compute $\\hat \\beta_{0}$ and $\\hat \\beta_{1}$:\n",
        "\n",
        "$$\n",
        "\\left\\{\\begin{matrix}\n",
        "\\sum_{i=1}^{n}y_i - n \\hat \\beta_0 - \\hat \\beta_1 \\sum_{i=1}^{n} x_i = 0 \\quad \\quad \\quad \\quad \\quad \\quad (3)\\\\\n",
        "\\\\\n",
        "\\sum_{i=1}^{n}x_iy_i - \\hat \\beta_0 \\sum_{i=1}^{n} x_{i} - \\hat \\beta_1 \\sum_{i=1}^{n} x_i^{2} = 0 \\quad \\quad \\quad (4)\n",
        "\\end{matrix}\\right.\n",
        "$$\n",
        "\n",
        "From equation $(3)$, we find:\n",
        "\n",
        "$$\n",
        "\\hat \\beta_0 = \\bar{y} - \\hat \\beta_1 \\bar{x}, \\quad \\quad (5)\n",
        "$$\n",
        "\n",
        "where\n",
        "\n",
        "$$\n",
        "\\bar{x} = \\frac{1}{n} \\sum_{i=1}^{n}x_{i} \\quad \\text{and} \\quad \\bar{y} = \\frac{1}{n} \\sum_{i=1}^{n}y_{i}.\n",
        "$$\n",
        "\n",
        "Substituting $(5)$ into $(2)$, we obtain:\n",
        "\n",
        "$$\n",
        "\\sum_{i=1}^{n} x_{i} \\left(y_{i} - (\\bar{y} - \\hat \\beta_{1} \\bar{x}) - \\hat \\beta_{1} x_{i}\\right) = 0\n",
        "\\iff \\sum_{i=1}^{n} x_{i} (y_{i} - \\bar{y}) = \\hat \\beta_{1} \\sum_{i=1}^{n} x_{i} (x_{i} - \\bar{x}) \\quad \\quad (6)\n",
        "$$\n",
        "\n",
        "Using the following identities, we simplify $(6)$ to isolate $\\hat \\beta_{1}$:\n",
        "\n",
        "$$\n",
        "\\sum_{i=1}^{n} x_{i} (y_{i} - \\bar{y}) = \\sum_{i=1}^{n} (x_{i} - \\bar{x})(y_{i} - \\bar{y}) \\quad \\text{and} \\quad\n",
        "\\sum_{i=1}^{n} x_{i} (x_{i} - \\bar{x}) = \\sum_{i=1}^{n} (x_{i} - \\bar{x})^{2} > 0\n",
        "$$\n",
        "\n",
        "$$\n",
        "\\hat \\beta_{1} = \\frac{\\sum_{i=1}^{n} (x_{i} - \\bar{x})(y_{i} - \\bar{y})}{\\sum_{i=1}^{n} (x_{i} - \\bar{x})^{2}} \\quad \\quad (7)\n",
        "$$\n",
        "\n",
        "Thus, the OLS estimators are expressed as:\n",
        "\n",
        "$$\n",
        "\\hat \\beta_{0} = \\bar{y} - \\hat \\beta_{1} \\bar{x} \\quad \\text{and} \\quad \\hat \\beta_{1} = \\frac{\\sum_{i=1}^{n} (x_{i} - \\bar{x})(y_{i} - \\bar{y})}{\\sum_{i=1}^{n} (x_{i} - \\bar{x})^{2}},\n",
        "$$\n",
        "\n",
        "where $\\bar{x}$ and $\\bar{y}$ are the sample means of the independent and dependent variables.\n",
        "\n",
        "Next, we prove that these estimators are unbiased by computing their expectations. Begin by rewriting $\\hat \\beta_{1}$:\n",
        "\n",
        "Let $s_{x}^{2} = \\sum_{i=1}^{n}(x_{i} - \\bar{x})^{2}$. Then:\n",
        "\n",
        "$$\n",
        "\\hat \\beta_{1} = \\frac{\\sum_{i=1}^{n} y_{i}(x_{i} - \\bar{x})}{\\sum_{i=1}^{n} (x_{i} - \\bar{x})^{2}} =\n",
        "\\frac{\\sum_{i=1}^{n} (\\beta_{0} + \\beta_{1} x_{i} + u_{i})(x_{i} - \\bar{x})}{s_{x}^{2}} =\n",
        "\\frac{\\beta_{0} \\sum_{i=1}^{n} (x_{i} - \\bar{x}) + \\beta_{1} \\sum_{i=1}^{n} (x_{i} - \\bar{x}) x_{i} + \\sum_{i=1}^{n} (x_{i} - \\bar{x}) u_{i}}{s_{x}^{2}}\n",
        "$$\n",
        "\n",
        "Since:\n",
        "\n",
        "- $\\sum_{i=1}^{n} (x_{i} - \\bar{x}) = 0$\n",
        "- $\\sum_{i=1}^{n} (x_{i} - \\bar{x}) x_{i} = s_{x}^{2}$\n",
        "- $x_{i} - \\bar{x} = d_{i}$,\n",
        "\n",
        "we can write:\n",
        "\n",
        "$$\n",
        "\\hat \\beta_{1} = \\frac{\\beta_{1} s_{x}^{2} + \\sum_{i=1}^{n} d_{i} u_{i}}{s_{x}^{2}} =\n",
        "\\beta_{1} + \\frac{1}{s_{x}^{2}} \\sum_{i=1}^{n} d_{i} u_{i}.\n",
        "$$\n",
        "\n",
        "The bias of $\\hat \\beta_{1}$ is:\n",
        "\n",
        "$$\n",
        "b(\\beta_{1}, \\hat \\beta_{1}) = E(\\hat \\beta_{1}) - \\beta_{1} = \\beta_{1} + \\left( \\frac{1}{s_{x}^{2}} \\sum_{i=1}^{n} E(d_{i} u_{i}) \\right) - \\beta_{1} =\n",
        "\\frac{1}{s_{x}^{2}} \\sum_{i=1}^{n} d_{i} E(u_{i}).\n",
        "$$\n",
        "\n",
        "Since $E(u_{i}) = 0$, we conclude that $\\hat \\beta_{1}$ is unbiased: $b(\\beta_{1}, \\hat \\beta_{1}) = 0$.\n",
        "\n",
        "For $\\hat \\beta_{0}$, we express it as:\n",
        "\n",
        "$$\n",
        "\\hat \\beta_{0} = (\\beta_{0} + \\beta_{1} \\bar{x} + \\bar{u}) - \\hat \\beta_{1} \\bar{x} = \\beta_{0} + (\\beta_{1} - \\hat \\beta_{1}) \\bar{x} + \\bar{u}.\n",
        "$$\n",
        "\n",
        "The bias of $\\hat \\beta_{0}$ is:\n",
        "\n",
        "$$\n",
        "b(\\beta_{0}, \\hat \\beta_{0}) = E(\\hat \\beta_{0}) - \\beta_{0} = \\beta_{0} + E\\left((\\beta_{1} - \\hat \\beta_{1}) \\bar{x}\\right) + E(\\bar{u}) - \\beta_{0}.\n",
        "$$\n",
        "\n",
        "Since $E(u_{i}) = 0$ and $E(\\hat \\beta_{1}) = \\beta_{1}$, it follows that $E\\left((\\beta_{1} - \\hat \\beta_{1}) \\bar{x}\\right) = 0$.\n",
        "\n",
        "Thus, $b(\\beta_{0}, \\hat \\beta_{0}) = 0$, proving that $\\hat \\beta_{0}$ is unbiased."
      ]
    },
    {
      "cell_type": "markdown",
      "metadata": {
        "id": "Zfiloq1b9maz"
      },
      "source": [
        "---\n",
        "#### **3. Explain the sample selection bias with an example from the course.**"
      ]
    },
    {
      "cell_type": "markdown",
      "metadata": {
        "id": "FcrdSKMR9n8Z"
      },
      "source": [
        "A sample selection bias occurs when the OLS estimator is influenced by data derived from a non-random selection process. For example, in a case involving fertilizer and land quality, as discussed in the course, the issue arises when experiments are not fully randomized. Variables known to the researcher, such as sunlight availability or vulnerability to pests, may impact the decision to apply fertilizer, introducing a sample selection bias.\n"
      ]
    },
    {
      "cell_type": "markdown",
      "metadata": {
        "id": "vN-_yVBg-M5p"
      },
      "source": [
        "---\n",
        "#### **4. Explain the omitted variable bias with an example from the course**"
      ]
    },
    {
      "cell_type": "markdown",
      "metadata": {
        "id": "9_d3ACmX-uT5"
      },
      "source": [
        "This issue arises when an important variable is omitted from the model. Typically, in such cases, the OLS estimators become biased. To demonstrate this, let us first consider the true population model, which includes two explanatory variables and an error term:\n",
        "\n",
        "$$\n",
        "y = \\beta_{0} + \\beta_{1} x_{1} + \\beta_{2} x_{2} + u.\n",
        "$$\n",
        "\n",
        "If we conduct a simple linear regression of $y$ on $x_{1}$ alone—disregarding $x_{2}$—the resulting model is underspecified and can be expressed as:\n",
        "\n",
        "$$\n",
        "\\widetilde{y} = \\widetilde{\\beta_{0}} + \\widetilde{\\beta_{1}} x_{1}.\n",
        "$$\n",
        "\n",
        "Deriving the expression for $\\widetilde{\\beta_{1}}$, we obtain an equation similar to $(7)$:\n",
        "\n",
        "$$\n",
        "\\widetilde{\\beta_{1}} = \\frac{\\sum_{i=1}^{n} y_{i}(x_{i1} - \\bar{x}_{1})}{\\sum_{i=1}^{n} (x_{i1} - \\bar{x}_{1})^{2}} \\quad \\quad \\quad \\quad (8)\n",
        "$$\n",
        "\n",
        "Now, using the true population model, for each observation $i$, we write:\n",
        "\n",
        "$$\n",
        "y_{i} = \\beta_{0} + \\beta_{1} x_{i1} + \\beta_{2} x_{i2} + u_{i} \\quad \\quad (9)\n",
        "$$\n",
        "\n",
        "Substituting $(9)$ into $(8)$, the numerator of $(8)$ becomes:\n",
        "\n",
        "$$\n",
        "\\sum_{i=1}^{n} (\\beta_{0} + \\beta_{1} x_{i1} + \\beta_{2} x_{i2} + u_{i})(x_{i1} - \\bar{x}_{1}) =\n",
        "\\beta_{1} \\sum_{i=1}^{n} (x_{i1} - \\bar{x}_{1})^{2} + \\beta_{2} \\sum_{i=1}^{n} (x_{i1} - \\bar{x}_{1}) x_{i2} + \\sum_{i=1}^{n} (x_{i1} - \\bar{x}_{1}) u_{i} \\quad \\quad (10)\n",
        "$$\n",
        "\n",
        "Using $(10)$, equation $(8)$ can now be rewritten as:\n",
        "\n",
        "$$\n",
        "\\widetilde{\\beta_{1}} = \\beta_{1} + \\beta_{2} \\frac{\\sum_{i=1}^{n} (x_{i1} - \\bar{x}_{1}) x_{i2}}{\\sum_{i=1}^{n} (x_{i1} - \\bar{x}_{1})^{2}} + \\frac{\\sum_{i=1}^{n} (x_{i1} - \\bar{x}_{1}) u_{i}}{\\sum_{i=1}^{n} (x_{i1} - \\bar{x}_{1})^{2}} \\quad \\quad (11)\n",
        "$$\n",
        "\n",
        "Finally, taking the expectation of $\\widetilde{\\beta_{1}}$ and noting that $E(u_{i}) = 0$, we find:\n",
        "\n",
        "$$\n",
        "E(\\widetilde{\\beta_{1}}) = \\beta_{1} + \\beta_{2} \\frac{\\sum_{i=1}^{n} (x_{i1} - \\bar{x}_{1}) x_{i2}}{\\sum_{i=1}^{n} (x_{i1} - \\bar{x}_{1})^{2}} \\neq \\beta_{1},\n",
        "$$\n",
        "\n",
        "which confirms that $\\widetilde{\\beta_{1}}$ is a biased estimator.\n",
        "\n",
        "A specific example discussed in the course is as follows:\n",
        "\n",
        "$$\n",
        "wage = \\beta_{0} + \\beta_{1} education + \\beta_{2} ability + u\n",
        "$$\n",
        "\n",
        "The bias in the estimator of $\\beta_{1}$ was observed when the model was underspecified by regressing $wage$ solely on $education$, excluding the $ability$ variable."
      ]
    },
    {
      "cell_type": "markdown",
      "metadata": {
        "id": "aSRRBxrK-6NI"
      },
      "source": [
        "---\n",
        "#### **5. Explain the problem of multicollinearity. Is it a problem in this dataset?**"
      ]
    },
    {
      "cell_type": "code",
      "execution_count": 130,
      "metadata": {
        "id": "Bj9XKXs1v3j0"
      },
      "outputs": [],
      "source": [
        "import pandas as pd\n",
        "import numpy as np\n",
        "import matplotlib.pyplot as plt\n",
        "import scipy\n",
        "import statsmodels.api as sm\n",
        "from scipy.stats import t\n",
        "from scipy.stats import f"
      ]
    },
    {
      "cell_type": "code",
      "execution_count": null,
      "metadata": {
        "colab": {
          "base_uri": "https://localhost:8080/"
        },
        "id": "vfstdMFQv3j0",
        "outputId": "4f07d456-a09c-4654-d654-d63b169d57b8"
      },
      "outputs": [
        {
          "name": "stderr",
          "output_type": "stream",
          "text": [
            "<ipython-input-131-540740df2117>:1: FutureWarning: The 'delim_whitespace' keyword in pd.read_csv is deprecated and will be removed in a future version. Use ``sep='\\s+'`` instead\n",
            "  df=pd.read_csv('HPRICE2.raw', delim_whitespace=True,header=None)\n"
          ]
        }
      ],
      "source": [
        "df=pd.read_csv('./textfiles/HPRICE2.raw', delim_whitespace=True,header=None)"
      ]
    },
    {
      "cell_type": "code",
      "execution_count": 132,
      "metadata": {
        "id": "xPSolVA9v3j1"
      },
      "outputs": [],
      "source": [
        "df['price']=df[0]\n",
        "df['crime']=df[1]\n",
        "df['nox']=df[2]\n",
        "df['rooms']=df[3]\n",
        "df['dist']=df[4]\n",
        "df['radial']=df[5]\n",
        "df['proptax']=df[6]\n",
        "df['stratio']=df[7]\n",
        "df['lowstat']=df[8]\n",
        "df['lprice']=df[9]\n",
        "df['lnox']=df[10]\n",
        "df['lproptax']=df[11]\n",
        "\n",
        "X=np.column_stack((const,df['crime'],df['nox'],df['rooms'],df['dist'],df['radial'],df['proptax'],df['stratio'],df['lowstat']))"
      ]
    },
    {
      "cell_type": "code",
      "execution_count": 133,
      "metadata": {
        "colab": {
          "base_uri": "https://localhost:8080/"
        },
        "id": "ndyZkZZPv3j1",
        "outputId": "154abcc9-8e6a-4f39-8bf0-1c7a371402c7"
      },
      "outputs": [
        {
          "name": "stdout",
          "output_type": "stream",
          "text": [
            "[41533.99087073  -122.54437462 -1853.22689901  4062.65799393\n",
            " -1231.38787227   293.16667426  -122.36083186 -1102.69694785\n",
            "  -519.63652488]\n"
          ]
        }
      ],
      "source": [
        "beta=np.linalg.inv(X.T@X)@X.T@y\n",
        "print(beta)\n",
        "u=y-X@beta"
      ]
    },
    {
      "cell_type": "code",
      "execution_count": 134,
      "metadata": {
        "id": "7nYo8_pwv3j1"
      },
      "outputs": [],
      "source": [
        "val=np.column_stack((y,const,crime,nox,rooms,dist,radial,proptax,stratio,lowstat,lprice,lnox,lproptax))\n",
        "dtype=[('price',float),('const',int),('crime',float),('nox',float),('rooms',float),('dist',float),\n",
        "       ('radial',float),('proptax',float),('stratio',float),('lowstat',float),('lprice',float),('lnox',float),('lproptax',float)]\n",
        "\n",
        "a=np.array(val,dtype=dtype)"
      ]
    },
    {
      "cell_type": "code",
      "execution_count": 135,
      "metadata": {
        "id": "9ztI2o_Qv3j1"
      },
      "outputs": [],
      "source": [
        "val_s=np.sort(a,order='nox')\n",
        "y=val[:,0]\n",
        "X=val[:,1:11]"
      ]
    },
    {
      "cell_type": "code",
      "execution_count": 136,
      "metadata": {
        "colab": {
          "base_uri": "https://localhost:8080/"
        },
        "id": "A0tIa8qIQujz",
        "outputId": "8697c5a2-04cc-43aa-d0f1-47b8578423ca"
      },
      "outputs": [
        {
          "name": "stdout",
          "output_type": "stream",
          "text": [
            "  Variable         VIF\n",
            "0    const  529.297796\n",
            "1    crime    1.740550\n",
            "2      nox    3.687239\n",
            "3    rooms    1.766832\n",
            "4     dist    2.576614\n",
            "5   radial    6.788811\n",
            "6  proptax    6.891633\n",
            "7  stratio    1.530528\n",
            "8  lowstat    2.446163\n"
          ]
        }
      ],
      "source": [
        "import pandas as pd\n",
        "import numpy as np\n",
        "from statsmodels.stats.outliers_influence import variance_inflation_factor\n",
        "\n",
        "# Criar a matriz de variáveis independentes\n",
        "X = df[['crime', 'nox', 'rooms', 'dist', 'radial', 'proptax', 'stratio', 'lowstat']]\n",
        "X = sm.add_constant(X)  # Adicionar uma constante para o modelo\n",
        "\n",
        "# Calcular o VIF para cada variável\n",
        "vif_data = pd.DataFrame()\n",
        "vif_data[\"Variable\"] = X.columns\n",
        "vif_data[\"VIF\"] = [variance_inflation_factor(X.values, i) for i in range(X.shape[1])]\n",
        "\n",
        "print(vif_data)\n"
      ]
    },
    {
      "cell_type": "markdown",
      "metadata": {
        "id": "IILTzkpIRsV3"
      },
      "source": [
        "Multicollinearity refers to a situation in which two or more predictor variables in a multiple regression model are highly correlated. This means that one variable can be linearly predicted from the others with a substantial degree of accuracy.\n",
        "\n",
        "If this is the case, the determinant of the matrix $X^{\\prime}X$ approaches zero:\n",
        "\n",
        "$$\n",
        "det(X^\\prime X) = 0\n",
        "$$\n",
        "\n",
        "In such instances, the matrix $ (X^\\prime X) $ becomes nearly non-invertible, which can make the computation of the OLS estimator unstable or unreliable.\n",
        "\n",
        "The presence of multicollinearity can also be detected using the R-squared value. In this context, the R-squared value is obtained from regressing each predictor on all other predictors. A high R-squared value indicates that a predictor can be well explained by other predictors, suggesting the presence of multicollinearity.\n",
        "\n",
        "Multicollinearity inflates the variance of coefficient estimates, making them unstable and difficult to interpret. This poses challenges for understanding your model and making inferences about the relationships between variables.\n",
        "\n",
        "One common method to quantify multicollinearity is the Variance Inflation Factor (VIF), which is defined as:\n",
        "\n",
        "VIF = 1 / (1 - R-square)\n",
        "\n",
        "\n",
        "The VIF provides a measure of how much the variance of the estimated regression coefficient is increased due to multicollinearity.\n",
        "\n",
        "In Python, it’s relatively straightforward to calculate the VIF using packages such as statsmodels. If multicollinearity is detected, you might consider removing one of the correlated variables, combining correlated variables into one, or employing techniques such as ridge regression or principal component analysis.\n",
        "\n",
        "In this dataset, moderate multicollinearity is observed for the variables radial (VIF = 6.79) and proptax (VIF = 6.89). While these values do not indicate severe multicollinearity, they suggest some redundancy in the predictors. Further analysis or transformations might be considered to address this issue if it impacts the model's interpretability or predictive performance."
      ]
    },
    {
      "cell_type": "markdown",
      "metadata": {
        "id": "CbU0PWPlv3j2"
      },
      "source": [
        "---\n",
        "#### **6. Create three categories of nox levels (low, medium, high), corresponding to the following percentiles: 0-25%, 26%-74%, 75%-100%.**"
      ]
    },
    {
      "cell_type": "code",
      "execution_count": 137,
      "metadata": {
        "id": "pDCQdefnv3j2"
      },
      "outputs": [],
      "source": [
        "nox_percent = np.percentile(df['nox'] , [25, 50, 75])\n",
        "nox_bins = np.digitize(df['nox'] , nox_percent)\n",
        "\n",
        "df['nox_bins'] = nox_bins\n",
        "\n",
        "low_nox = df[df['nox_bins']==0]\n",
        "medium_nox = df[df['nox_bins'] == 1]\n",
        "high_nox = df[df['nox_bins']== 2]"
      ]
    },
    {
      "cell_type": "markdown",
      "metadata": {
        "id": "QMdrQk-Wv3j2"
      },
      "source": [
        "---\n",
        "#### **7. Compute for each category of nox level the average median price and comment on your results.**"
      ]
    },
    {
      "cell_type": "code",
      "execution_count": 138,
      "metadata": {
        "colab": {
          "base_uri": "https://localhost:8080/"
        },
        "id": "dcyS-FMEv3j2",
        "outputId": "3b941d45-fe2c-446b-8103-25c06dc8f620"
      },
      "outputs": [
        {
          "name": "stdout",
          "output_type": "stream",
          "text": [
            "27079.58064516129\n",
            "25530.6935483871\n",
            "20624.13559322034\n"
          ]
        }
      ],
      "source": [
        "print(np.average(low_nox[0]))\n",
        "print(np.average(medium_nox[0]))\n",
        "print(np.average(high_nox[0]))"
      ]
    },
    {
      "cell_type": "markdown",
      "metadata": {
        "id": "ECqhgw0BHS6Z"
      },
      "source": [
        "We can see that the average price is decreasing with nox_category level increase."
      ]
    },
    {
      "cell_type": "markdown",
      "metadata": {
        "id": "PBkcVhlUv3j2"
      },
      "source": [
        "---\n",
        "#### **8. Produce a scatter plot with the variable price on the y-axis and the variable nox on the x-axis. Is this a ceteris paribus effect?**"
      ]
    },
    {
      "cell_type": "code",
      "execution_count": 139,
      "metadata": {
        "colab": {
          "base_uri": "https://localhost:8080/",
          "height": 472
        },
        "id": "bc5bHTDov3j2",
        "outputId": "5ff34944-591a-419c-f675-a3c2b099e2ba"
      },
      "outputs": [
        {
          "data": {
            "image/png": "[encoded data removed]",
            "text/plain": [
              "<Figure size 640x480 with 1 Axes>"
            ]
          },
          "metadata": {},
          "output_type": "display_data"
        }
      ],
      "source": [
        "plt.scatter(df['nox'], df['price'])\n",
        "plt.xlabel('nox')\n",
        "plt.ylabel('price')\n",
        "plt.title('Scatter Plot: nox x price')\n",
        "plt.show()"
      ]
    },
    {
      "cell_type": "markdown",
      "metadata": {
        "id": "F-wJsroFv3j3"
      },
      "source": [
        "---\n",
        "#### **9. Run a regression of price on a constant, crime, nox, rooms, proptax. Comment on the histogram of the residuals. Interpret all coefficients.**"
      ]
    },
    {
      "cell_type": "markdown",
      "metadata": {
        "id": "pj3fyA1VH0VA"
      },
      "source": [
        "If the histogram of residuals shows a mean of 0 but high variance, it may indicate collinearity among the independent variables. Collinearity can make it difficult to estimate the individual impact of each variable on the dependent variable, price, while keeping others constant. This issue inflates the standard errors, resulting in wider confidence intervals or non-significant results (higher p-values), even when the predictors are related to the outcome.\n"
      ]
    },
    {
      "cell_type": "code",
      "execution_count": 140,
      "metadata": {
        "colab": {
          "base_uri": "https://localhost:8080/",
          "height": 576
        },
        "id": "oUFpLsZev3j3",
        "outputId": "3b736e55-608d-4bdb-dbbf-5ddd64f901f1"
      },
      "outputs": [
        {
          "name": "stdout",
          "output_type": "stream",
          "text": [
            "0   -18682.263753\n",
            "1     -136.543828\n",
            "2     -660.467247\n",
            "3     7797.928603\n",
            "4      -89.414396\n",
            "dtype: float64\n"
          ]
        },
        {
          "data": {
            "image/png": "[encoded data removed]",
            "text/plain": [
              "<Figure size 640x480 with 1 Axes>"
            ]
          },
          "metadata": {},
          "output_type": "display_data"
        }
      ],
      "source": [
        "y =df['price']\n",
        "X = df[['crime', 'nox', 'rooms', 'proptax']]\n",
        "X = sm.add_constant(X)\n",
        "model=sm.OLS(y,X)\n",
        "results_q9 = model.fit()\n",
        "residual=results_q9.resid\n",
        "beta=np.linalg.inv(X.T@X)@X.T@y\n",
        "print(beta)\n",
        "\n",
        "\n",
        "\n",
        "plt.hist(residual, bins=40)\n",
        "plt.xlabel('Residuals')\n",
        "plt.ylabel('Frequency')\n",
        "plt.title('Histogram of Residuals')\n",
        "plt.show()"
      ]
    },
    {
      "cell_type": "markdown",
      "metadata": {
        "id": "fx0VX5hkH5eS"
      },
      "source": [
        "Coeficients interpretations\n",
        "\n",
        "**All constant (intercept)**: -18,680\n",
        "- When all independent variables (crime, nox, rooms, proptax) are zero, the predicted value of the dependent variable (price) is -18,680. This might indicate that it dosen't make sense to have all variables equal to zero.\n",
        "\n",
        "**\"crime\":**: -136.5438\n",
        "- While the other variables constant,  increasing the \"crime\" variable by one unit is associated with a decrease in the predicted value of the price by 136.5438 units.\n",
        "\n",
        "**\"nox\":**: -660.4672\n",
        "- While the other variables constant,  increasing the in the \"nox\" variable by one unit is associated with a decrease in the predicted value of the price by 660.4672 units.\n",
        "\n",
        "**\"rooms\":**: 7797.9286\n",
        "- While the other variables constant,  increasing the \"rooms\" variable by one unit is associated with an increase in the predicted value of the price by 7797.9286 units.\n",
        "\n",
        "**\"proptax\":**: -89.4144\n",
        "- While the  other variables constant, increasing the \"proptax\" variable by one unit is associated with a decrease in the predicted value of the price by 89.4144 units."
      ]
    },
    {
      "cell_type": "markdown",
      "metadata": {
        "id": "Iq2ulOs4v3j3"
      },
      "source": [
        "---\n",
        "#### **10. Run a regression of lprice on a constant, crime, nox, rooms, proptax. Interpret all coefficients.**"
      ]
    },
    {
      "cell_type": "code",
      "execution_count": 141,
      "metadata": {
        "colab": {
          "base_uri": "https://localhost:8080/",
          "height": 576
        },
        "id": "2D0_iUOiv3j3",
        "outputId": "8d20b8dd-9648-470c-ef3e-3d4b2e6f032f"
      },
      "outputs": [
        {
          "name": "stdout",
          "output_type": "stream",
          "text": [
            "0    8.655011\n",
            "1   -0.012516\n",
            "2   -0.047579\n",
            "3    0.281556\n",
            "4   -0.004263\n",
            "dtype: float64\n"
          ]
        },
        {
          "data": {
            "image/png": "[encoded data removed]",
            "text/plain": [
              "<Figure size 640x480 with 1 Axes>"
            ]
          },
          "metadata": {},
          "output_type": "display_data"
        }
      ],
      "source": [
        "ly=df['lprice']\n",
        "X = df[['crime', 'nox', 'rooms', 'proptax']]\n",
        "X = sm.add_constant(X)\n",
        "model=sm.OLS(ly,X)\n",
        "results_q10 = model.fit()\n",
        "residual=results_q10.resid\n",
        "betal=np.linalg.inv(X.T@X)@X.T@ly\n",
        "print(betal)\n",
        "\n",
        "\n",
        "plt.hist(residual, bins=40)\n",
        "plt.xlabel('Residuals')\n",
        "plt.ylabel('Frequency')\n",
        "plt.title('Histogram of Residuals')\n",
        "plt.show()"
      ]
    },
    {
      "cell_type": "markdown",
      "metadata": {
        "id": "n6TddMGCINKY"
      },
      "source": [
        "Coeficients interpretations\n",
        "\n",
        "**All constant (intercept)**: 8.6550\n",
        "- When all of the independent variables (crime, nox, rooms, proptax) are zero, the predicted log('price') is 8.6550.\n",
        "\n",
        "**\"crime\"**: -0.0125\n",
        "- While the other variables constant, increasing the \"crime\" variable by one unit is associated with a decrease in the predicted value of the price by 1.25%.\n",
        "\n",
        "**\"nox\"**: -0.0476\n",
        "- While the other variables constant, increasing the \"nox\" variable by one unit is associated with a decrease in the predicted value of the price by 4.76% .\n",
        "\n",
        "**\"rooms\"**: 0.2816\n",
        "- While the other variables constant, increasing the \"rooms\" variable by one unit is associated with an increase in the predicted value of the price by 28.16%.\n",
        "\n",
        "**\"proptax\"**: -0.0043\n",
        "- While the other variables constant, increasing the \"proptax\" variable by one unit is associated with a decrease in the predicted value of the price by 0.43%."
      ]
    },
    {
      "cell_type": "markdown",
      "metadata": {
        "id": "UDZUqABEv3j3"
      },
      "source": [
        "---\n",
        "#### **11. Run a regression of lprice on a constant, crime, lnox, rooms, lproptax. Interpret all coefficients.**"
      ]
    },
    {
      "cell_type": "code",
      "execution_count": 142,
      "metadata": {
        "colab": {
          "base_uri": "https://localhost:8080/",
          "height": 576
        },
        "id": "OwjoNxJcv3j3",
        "outputId": "15701cd3-e784-4c43-ad2e-99587e8da781"
      },
      "outputs": [
        {
          "name": "stdout",
          "output_type": "stream",
          "text": [
            "0    9.750517\n",
            "1   -0.012802\n",
            "2   -0.276915\n",
            "3    0.280175\n",
            "4   -0.177870\n",
            "dtype: float64\n"
          ]
        },
        {
          "data": {
            "image/png": "[encoded data removed]",
            "text/plain": [
              "<Figure size 640x480 with 1 Axes>"
            ]
          },
          "metadata": {},
          "output_type": "display_data"
        }
      ],
      "source": [
        "ly=df['lprice']\n",
        "lX = df[['crime', 'lnox', 'rooms', 'lproptax']]\n",
        "lX = sm.add_constant(lX)\n",
        "model=sm.OLS(ly,lX)\n",
        "results_q11 = model.fit()\n",
        "residual=results_q11.resid\n",
        "betall=np.linalg.inv(lX.T@lX)@lX.T@ly\n",
        "print(betall)\n",
        "\n",
        "\n",
        "plt.hist(residual, bins=40)\n",
        "plt.xlabel('Residuals')\n",
        "plt.ylabel('Frequency')\n",
        "plt.title('Histogram of Residuals')\n",
        "plt.show()"
      ]
    },
    {
      "cell_type": "markdown",
      "metadata": {
        "id": "vcpoKz2qIYwW"
      },
      "source": [
        "Coeficients interpretations\n",
        "\n",
        "**All constant (intercept)**: 9.7505\n",
        "- When all of the independent variables (crime, nox, rooms, proptax) are zero, the predicted value of the price is 9.7505.\n",
        "\n",
        "**\"crime\"**: -0.0128\n",
        "- While the other variables constant, increasing the \"crime\" variable by one unit is associated with a decrease in the predicted value of the price by 1.28%.\n",
        "\n",
        "**\"lnox\"**: -0.277\n",
        "- While the other variables constant, increasing the \"nox\" variable by one percent is associated with a decrease in the predicted value of the price by 0.277%.\n",
        "\n",
        "**\"rooms\"**: 0.2802\n",
        "- While the other variables constant, increasing the \"rooms\" variable by one unit is associated with an increase in the predicted value of the price by 28.02%.\n",
        "\n",
        "**\"lproptax\"**: -0.178\n",
        "- While the other variables constant, increasing the \"proptax\" variable by one percent is associated with a decrease in the predicted value of the price by 0.178%."
      ]
    },
    {
      "cell_type": "markdown",
      "metadata": {
        "id": "Jb8HdAFOv3j3"
      },
      "source": [
        "---\n",
        "#### **12. In the specification of question 9, test the hypothesis H0: βnox = 0 vs. H1: βnox ≠ 0 at the 1% level using the p-value of the test.**"
      ]
    },
    {
      "cell_type": "code",
      "execution_count": 143,
      "metadata": {
        "colab": {
          "base_uri": "https://localhost:8080/"
        },
        "id": "kQRodb3nv3j3",
        "outputId": "bfe84911-a630-4162-8737-c0d50ce45330"
      },
      "outputs": [
        {
          "name": "stdout",
          "output_type": "stream",
          "text": [
            "0.03630243468311023\n"
          ]
        }
      ],
      "source": [
        "beta_nox = results_q9.params['nox']\n",
        "se_nox = results_q9.bse['nox']\n",
        "\n",
        "n,k=np.shape(X)\n",
        "t_stat = beta_nox / se_nox\n",
        "\n",
        "\n",
        "p_value=(1-t.sf(t_stat,n-k))*2\n",
        "print(p_value)"
      ]
    },
    {
      "cell_type": "markdown",
      "metadata": {
        "id": "x1kLzbq_v3j3"
      },
      "source": [
        "Since the p-value is bigger than 1% we fail to reject the hypothesis"
      ]
    },
    {
      "cell_type": "markdown",
      "metadata": {
        "id": "i-vju2O2v3j3"
      },
      "source": [
        "---\n",
        "#### **13. In the specification of question 9, test the hypothesis H0: βcrime = βproptax at the 10% level.**"
      ]
    },
    {
      "cell_type": "code",
      "execution_count": 144,
      "metadata": {
        "colab": {
          "base_uri": "https://localhost:8080/"
        },
        "id": "yP2J9MIcv3j3",
        "outputId": "43e61078-79f3-4772-ae78-15b03289dfc6"
      },
      "outputs": [
        {
          "name": "stdout",
          "output_type": "stream",
          "text": [
            "0.3794398281215572\n"
          ]
        }
      ],
      "source": [
        "beta_crime = results_q9.params['crime']\n",
        "beta_proptax = results_q9.params['proptax']\n",
        "se_crime = results_q9.bse['crime']\n",
        "se_proptax = results_q9.bse['proptax']\n",
        "\n",
        "\n",
        "cov = results_q9.cov_params()\n",
        "cov_crime_proptax = cov.loc['crime', 'proptax']\n",
        "\n",
        "se_crime_proptax = np.sqrt(se_crime**2 + se_proptax**2 - 2 * cov_crime_proptax)\n",
        "\n",
        "t_value = (beta_crime - beta_proptax) / se_crime_proptax\n",
        "deg_free = results_q9.df_resid\n",
        "\n",
        "p_value = 2 * (1 - t.cdf(abs(t_value), deg_free))\n",
        "print(p_value)"
      ]
    },
    {
      "cell_type": "markdown",
      "metadata": {
        "id": "NqivkgdjJCL5"
      },
      "source": [
        "Since the p-value is bigger than 10% we fail to reject the hypothesis"
      ]
    },
    {
      "cell_type": "markdown",
      "metadata": {
        "id": "CTy6--6zv3j3"
      },
      "source": [
        "---\n",
        "#### **14. In the specification of question 9, test the hypothesis H0: βnox = 0, βproptax = 0 at the 10% level.**"
      ]
    },
    {
      "cell_type": "code",
      "execution_count": 145,
      "metadata": {
        "colab": {
          "base_uri": "https://localhost:8080/"
        },
        "id": "LXlHojCgv3j4",
        "outputId": "8f362c79-8218-47ed-e71c-b76f9bc631c4"
      },
      "outputs": [
        {
          "name": "stdout",
          "output_type": "stream",
          "text": [
            "3.189735142683503e-10\n"
          ]
        }
      ],
      "source": [
        "X_unrestricted = df[['crime', 'nox', 'rooms', 'proptax']]\n",
        "X_unrestricted = sm.add_constant(X_unrestricted)\n",
        "model_unres=sm.OLS(y,X_unrestricted)\n",
        "results_q14_unres = model_unres.fit()\n",
        "\n",
        "X_restricted = df[['nox', 'rooms']]\n",
        "X_restricted = sm.add_constant(X_restricted)\n",
        "model_res=sm.OLS(y,X_restricted)\n",
        "results_q14_res = model_res.fit()\n",
        "\n",
        "\n",
        "u_unres=results_q14_unres.resid\n",
        "SSR0=u_unres.T@u_unres\n",
        "\n",
        "u_res=results_q14_res.resid\n",
        "SSR1=u_res.T@u_res\n",
        "\n",
        "q = model_res.df_resid - model_unres.df_resid\n",
        "n_k_1 = model_unres.df_resid\n",
        "\n",
        "\n",
        "F = ((SSR1 - SSR0) / q) / (SSR0 / n_k_1)\n",
        "p_value = 2 * (1 - f.cdf(F, q, n_k_1))\n",
        "print(p_value)"
      ]
    },
    {
      "cell_type": "markdown",
      "metadata": {
        "id": "Y4M6moaiJSiR"
      },
      "source": [
        "Since the p-value is smaller than 10% we reject the hypothesis."
      ]
    },
    {
      "cell_type": "markdown",
      "metadata": {
        "id": "GsTQmv8pJZY-"
      },
      "source": [
        "---\n",
        "#### **15.In the specification of question 9, test the hypothesis H0: βnox = -500, βproptax = -100 at the 10% level using the p-value of the test.**"
      ]
    },
    {
      "cell_type": "code",
      "execution_count": 146,
      "metadata": {
        "id": "mYDUJd9QJhzk"
      },
      "outputs": [],
      "source": [
        "X2 = df[['crime', 'rooms']]\n",
        "X2 = sm.add_constant(X2)\n",
        "#X2=np.column_stack((val[:,1],val[:,2],val[:,4]))\n",
        "y2=df['price']+500*df['nox']+100*df['proptax']\n",
        "\n",
        "model=sm.OLS(y2,X2)\n",
        "results = model.fit()\n",
        "u2=results.resid\n",
        "SSR2=u2.T@u2"
      ]
    },
    {
      "cell_type": "code",
      "execution_count": 147,
      "metadata": {
        "colab": {
          "base_uri": "https://localhost:8080/"
        },
        "id": "aiDOYkajJkAZ",
        "outputId": "a26785c8-5e3a-433f-94b7-8ca08bfb71e6"
      },
      "outputs": [
        {
          "data": {
            "text/plain": [
              "0.8613665090188437"
            ]
          },
          "execution_count": 147,
          "metadata": {},
          "output_type": "execute_result"
        }
      ],
      "source": [
        "n,k=np.shape(X2)\n",
        "F=((SSR2-SSR0)/2)/(SSR0/(n-k))\n",
        "f.sf(F,2,n-k)"
      ]
    },
    {
      "cell_type": "markdown",
      "metadata": {
        "id": "Dsl8MmmWJmS3"
      },
      "source": [
        "Since the p-value is bigger than 10% we fail to reject the hypothesis"
      ]
    },
    {
      "cell_type": "markdown",
      "metadata": {
        "id": "nGeZ4A7uJpY_"
      },
      "source": [
        "---\n",
        "#### **16. In the specification of question 9, test the hypothesis that all coefficients are the same for observations with low levels of nox vs. medium and high levels of nox.**"
      ]
    },
    {
      "cell_type": "code",
      "execution_count": 148,
      "metadata": {
        "colab": {
          "base_uri": "https://localhost:8080/"
        },
        "id": "jhn0hO1PJx2I",
        "outputId": "5a76fc04-6f0b-4e05-ddfd-76fbe2a1d3ed"
      },
      "outputs": [
        {
          "name": "stdout",
          "output_type": "stream",
          "text": [
            "5.254935188336862e-05\n"
          ]
        }
      ],
      "source": [
        "X_low = sm.add_constant(low_nox[['crime', 'nox', 'rooms', 'proptax']])\n",
        "y_low = low_nox['price']\n",
        "model_low = sm.OLS(y_low, X_low).fit()\n",
        "u_low=model_low.resid\n",
        "SSR_low=u_low.T@u_low\n",
        "\n",
        "medium_high_nox = df[df['nox_bins'] != 0].copy()\n",
        "X_med_high = sm.add_constant(medium_high_nox[['crime', 'nox', 'rooms', 'proptax']])\n",
        "y_med_high = medium_high_nox['price']\n",
        "model_med_high = sm.OLS(y_med_high, X_med_high).fit()\n",
        "u_med_high=model_med_high.resid\n",
        "SSR_med_high=u_med_high.T@u_med_high\n",
        "\n",
        "\n",
        "\n",
        "X_pooled = sm.add_constant(df[['crime', 'nox', 'rooms', 'proptax']])\n",
        "y_pooled = df['price']\n",
        "model_pooled = sm.OLS(y_pooled, X_pooled).fit()\n",
        "SSR_pooled = np.sum(model_pooled.resid**2)\n",
        "\n",
        "\n",
        "n1 = len(y_low)\n",
        "n2 = len(y_med_high)\n",
        "k = X_low.shape[1]\n",
        "\n",
        "\n",
        "F = ((SSR_pooled - (SSR_low + SSR_med_high)) / k) / ((SSR_low + SSR_med_high) / (n1 + n2 - 2 * k))\n",
        "\n",
        "p_value = 1 - f.cdf(F, k, n1 + n2 - 2 * k)\n",
        "print(p_value)\n"
      ]
    },
    {
      "cell_type": "markdown",
      "metadata": {
        "id": "BRv2VbhOJ0xB"
      },
      "source": [
        "Since the p-value is smaller than 10% we reject the hypothesis"
      ]
    },
    {
      "cell_type": "markdown",
      "metadata": {
        "id": "4DZwrcXeJ_qg"
      },
      "source": [
        "---\n",
        "#### **17. Repeat the test of question 16 but now assuming that only the coefficients of nox and proptax can change between the two groups of observations. State and test H0.**"
      ]
    },
    {
      "cell_type": "markdown",
      "metadata": {
        "id": "7_TEwZTYKHic"
      },
      "source": [
        "H0 : coefficients are the same across the two groups, and\n",
        "H1 : they differ."
      ]
    },
    {
      "cell_type": "code",
      "execution_count": 149,
      "metadata": {
        "colab": {
          "base_uri": "https://localhost:8080/"
        },
        "id": "nMs2N91CKJoK",
        "outputId": "efd089a1-0943-4fb1-e16d-f132d5bd1507"
      },
      "outputs": [
        {
          "name": "stdout",
          "output_type": "stream",
          "text": [
            "0.3746817354071267\n"
          ]
        }
      ],
      "source": [
        "df['nox_group'] = np.where(df['nox_bins'] != 0, 1, 0)\n",
        "\n",
        "df['nox_interaction'] = df['nox'] * df['nox_group']\n",
        "df['proptax_interaction'] = df['proptax'] * df['nox_group']\n",
        "\n",
        "\n",
        "X_interaction = sm.add_constant(df[['crime', 'nox', 'rooms', 'proptax', 'nox_interaction', 'proptax_interaction']])\n",
        "y_interaction = df['price']\n",
        "model_interaction = sm.OLS(y_interaction, X_interaction).fit()\n",
        "\n",
        "q = 2\n",
        "n = len(df)\n",
        "k_interaction = X_interaction.shape[1]\n",
        "\n",
        "SSR_interaction = np.sum(model_interaction.resid ** 2)\n",
        "F = ((SSR_pooled - SSR_interaction) / q) / (SSR_interaction / (n - k_interaction))\n",
        "\n",
        "\n",
        "p_value_interaction = 1 - f.cdf(F, q, n - k_interaction)\n",
        "print( p_value_interaction)"
      ]
    },
    {
      "cell_type": "markdown",
      "metadata": {
        "id": "oAmYYjrcKMTT"
      },
      "source": [
        "Since the p-value is bigger than 10% we fail to reject the hypothesis."
      ]
    },
    {
      "cell_type": "markdown",
      "metadata": {
        "id": "fbeX8w-uKVpz"
      },
      "source": [
        "## PART 2 - HETEROSKEDASTICITY\n",
        "---\n",
        "#### **18. Explain the problem of heteroskedasticity with an example of the course.**"
      ]
    },
    {
      "cell_type": "markdown",
      "metadata": {
        "id": "ohIJE3MoLgC9"
      },
      "source": [
        "### **Heteroskedasticity**\n",
        "Heteroskedasticity occurs when the variance of the error term in a regression model is not constant across observations. Under homoskedasticity, the variance of the error term \\(Var(u|x)\\) and the dependent variable \\(Var(y|x)\\) are assumed to be constant:\n",
        "\n",
        "$$\n",
        "Var(u|x) = Var(y|x) = \\sigma^{2}.\n",
        "$$\n",
        "\n",
        "However, under heteroskedasticity, the variance of the error term depends on the independent variable \\(x\\):\n",
        "\n",
        "$$\n",
        "Var(u|x) = \\sigma^{2}(x).\n",
        "$$\n",
        "\n",
        "This implies that the variance of the dependent variable \\(Var(y|x)\\) also depends on \\(x\\). This violation of the homoskedasticity assumption introduces several issues into regression analysis.\n",
        "\n",
        "\n",
        "### **Why Is Heteroskedasticity a Problem?**\n",
        "1. **Inefficiency**:\n",
        "   - Although the OLS estimators remain **unbiased**, they lose the property of being **efficient**, meaning they are no longer the Best Linear Unbiased Estimator (BLUE).\n",
        "\n",
        "2. **Invalid Inference**:\n",
        "   - The standard errors of the estimated coefficients become incorrect under heteroskedasticity, leading to unreliable \\(t\\)-statistics and \\(p\\)-values. This can result in incorrect conclusions from hypothesis tests.\n",
        "\n",
        "3. **Visual Evidence**:\n",
        "   - A scatterplot of residuals versus fitted values often reveals a \"funnel-shaped\" or systematic pattern when heteroskedasticity is present, rather than random scatter.\n",
        "\n",
        "\n",
        "### **Example from the Lecture: Education-Wage Relationship**\n",
        "In the course example, heteroskedasticity arises in the analysis of the education-wage relationship. Under homoskedasticity, the variance of wages given education (\\(Var(wage|educ)\\)) is assumed to be constant:\n",
        "\n",
        "$$\n",
        "Var(u|educ) = Var(wage|educ) = \\sigma^{2}.\n",
        "$$\n",
        "\n",
        "This means that while mean wages can vary with education levels, the variability (or spread) of wages remains the same across all levels of education. However, in real-world scenarios, this assumption often does not hold.\n",
        "\n",
        "For instance:\n",
        "- **Higher Education Levels**:\n",
        "  - Individuals with higher education levels may experience greater variability in wages due to a wider range of job opportunities and career paths.\n",
        "- **Lower Education Levels**:\n",
        "  - Conversely, individuals with lower education levels often face more restricted job markets, leading to lower wage variability.\n",
        "\n",
        "Thus, assuming homoskedasticity in this context would ignore these differences, leading to biased inference and potentially misleading conclusions.\n",
        "\n",
        "\n",
        "Heteroskedasticity introduces inefficiency and invalid inference into regression models, and its presence must be accounted for. Tools such as scatterplots, the Breusch-Pagan test, and White's test can help detect heteroskedasticity, while Generalized Least Squares (GLS) and robust standard errors can correct for its effects. In the education-wage example, acknowledging heteroskedasticity is essential to accurately capture the true relationship between education and wages."
      ]
    },
    {
      "cell_type": "markdown",
      "metadata": {
        "id": "WCQzvtoULoW-"
      },
      "source": [
        "---\n",
        "#### **19. In the specification of question 9, test the hypothesis of no heteroskedasticity of linear form, i.e. in the regression of u2 on constant, crime, nox, rooms, proptax, test H0: δcrime, δnox, δroom, δproptax = 0, where the coefficients δk (k = crime, nox, rooms, proptax) are associated with the corresponding explanatory variables.**"
      ]
    },
    {
      "cell_type": "code",
      "execution_count": 150,
      "metadata": {
        "colab": {
          "base_uri": "https://localhost:8080/"
        },
        "id": "7XbH1eiELyC9",
        "outputId": "021a1b4a-a6a2-4c53-ecdb-2f7c24f0adb8"
      },
      "outputs": [
        {
          "name": "stdout",
          "output_type": "stream",
          "text": [
            "                            OLS Regression Results                            \n",
            "==============================================================================\n",
            "Dep. Variable:                      y   R-squared:                       0.051\n",
            "Model:                            OLS   Adj. R-squared:                  0.044\n",
            "Method:                 Least Squares   F-statistic:                     6.799\n",
            "Date:                Sun, 08 Dec 2024   Prob (F-statistic):           2.47e-05\n",
            "Time:                        17:34:23   Log-Likelihood:                -10130.\n",
            "No. Observations:                 506   AIC:                         2.027e+04\n",
            "Df Residuals:                     501   BIC:                         2.029e+04\n",
            "Df Model:                           4                                         \n",
            "Covariance Type:            nonrobust                                         \n",
            "==============================================================================\n",
            "                 coef    std err          t      P>|t|      [0.025      0.975]\n",
            "------------------------------------------------------------------------------\n",
            "const      -5.885e+07   6.41e+07     -0.917      0.359   -1.85e+08    6.72e+07\n",
            "crime      -9.687e+05   7.69e+05     -1.260      0.208   -2.48e+06    5.42e+05\n",
            "nox         9.091e+05   6.28e+06      0.145      0.885   -1.14e+07    1.32e+07\n",
            "rooms        2.63e+06   8.07e+06      0.326      0.745   -1.32e+07    1.85e+07\n",
            "proptax      1.88e+06   4.78e+05      3.931      0.000     9.4e+05    2.82e+06\n",
            "==============================================================================\n",
            "Omnibus:                      760.905   Durbin-Watson:                   0.777\n",
            "Prob(Omnibus):                  0.000   Jarque-Bera (JB):           159893.659\n",
            "Skew:                           8.299   Prob(JB):                         0.00\n",
            "Kurtosis:                      88.489   Cond. No.                         546.\n",
            "==============================================================================\n",
            "\n",
            "Notes:\n",
            "[1] Standard Errors assume that the covariance matrix of the errors is correctly specified.\n"
          ]
        }
      ],
      "source": [
        "y=df['price']\n",
        "X = df[['crime', 'nox', 'rooms', 'proptax']]\n",
        "X = sm.add_constant(X)\n",
        "model=sm.OLS(y,X)\n",
        "results = model.fit()\n",
        "beta=np.linalg.inv(X.T@X)@X.T@y\n",
        "u=results.resid\n",
        "\n",
        "\n",
        "u2=u**2\n",
        "y_u=u2\n",
        "model=sm.OLS(y_u,X)\n",
        "results = model.fit()\n",
        "print(results.summary())"
      ]
    },
    {
      "cell_type": "markdown",
      "metadata": {
        "id": "SSpUk-OlL0hk"
      },
      "source": [
        "Crime : Not significant (p=0.208), suggesting that it does not contribute to heteroskedasticity.\n",
        "\n",
        "NOX : Not significant (p=0.885).\n",
        "\n",
        "Rooms : Not significant (p=0.745).\n",
        "\n",
        "Property Tax (Proptax) : Highly significant (p<0.001),  indicating strong evidence of heteroskedasticity related to this variable."
      ]
    },
    {
      "cell_type": "markdown",
      "metadata": {
        "id": "wDvsNmM6L5kL"
      },
      "source": [
        "---\n",
        "#### **20. In the specification of question 10, test the hypothesis of no heteroskedasticity of linear form.**"
      ]
    },
    {
      "cell_type": "code",
      "execution_count": 151,
      "metadata": {
        "colab": {
          "base_uri": "https://localhost:8080/"
        },
        "id": "if6lcvhMMAQy",
        "outputId": "e92abdce-b85a-476a-8eba-c4f2c8c63d8b"
      },
      "outputs": [
        {
          "name": "stdout",
          "output_type": "stream",
          "text": [
            "                            OLS Regression Results                            \n",
            "==============================================================================\n",
            "Dep. Variable:                      y   R-squared:                       0.126\n",
            "Model:                            OLS   Adj. R-squared:                  0.119\n",
            "Method:                 Least Squares   F-statistic:                     17.98\n",
            "Date:                Sun, 08 Dec 2024   Prob (F-statistic):           8.33e-14\n",
            "Time:                        17:34:23   Log-Likelihood:                 185.10\n",
            "No. Observations:                 506   AIC:                            -360.2\n",
            "Df Residuals:                     501   BIC:                            -339.1\n",
            "Df Model:                           4                                         \n",
            "Covariance Type:            nonrobust                                         \n",
            "==============================================================================\n",
            "                 coef    std err          t      P>|t|      [0.025      0.975]\n",
            "------------------------------------------------------------------------------\n",
            "const          0.0757      0.090      0.842      0.400      -0.101       0.253\n",
            "crime      -3.794e-05      0.001     -0.035      0.972      -0.002       0.002\n",
            "nox            0.0001      0.009      0.017      0.986      -0.017       0.017\n",
            "rooms         -0.0237      0.011     -2.096      0.037      -0.046      -0.001\n",
            "proptax        0.0034      0.001      5.026      0.000       0.002       0.005\n",
            "==============================================================================\n",
            "Omnibus:                      612.530   Durbin-Watson:                   0.914\n",
            "Prob(Omnibus):                  0.000   Jarque-Bera (JB):            48787.030\n",
            "Skew:                           5.865   Prob(JB):                         0.00\n",
            "Kurtosis:                      49.652   Cond. No.                         546.\n",
            "==============================================================================\n",
            "\n",
            "Notes:\n",
            "[1] Standard Errors assume that the covariance matrix of the errors is correctly specified.\n"
          ]
        }
      ],
      "source": [
        "ly=df['lprice']\n",
        "X = df[['crime', 'nox', 'rooms', 'proptax']]\n",
        "X = sm.add_constant(X)\n",
        "model=sm.OLS(ly,X)\n",
        "results = model.fit()\n",
        "betal=np.linalg.inv(X.T@X)@X.T@ly\n",
        "\n",
        "lu=results.resid\n",
        "\n",
        "lu2=lu**2\n",
        "ly_u=lu2\n",
        "model=sm.OLS(ly_u,X)\n",
        "results = model.fit()\n",
        "print(results.summary())"
      ]
    },
    {
      "cell_type": "markdown",
      "metadata": {
        "id": "mqu5kI4uMC9n"
      },
      "source": [
        "Crime: Not significant (p=0.972).\n",
        "\n",
        "NOX: Not significant (p=0.986).\n",
        "\n",
        "Rooms: Significant (p=0.037), indicating some heteroskedasticity related to this variable.\n",
        "\n",
        "Proptax: Highly significant (p<0.001), indicating strong evidence of heteroskedasticity related to this variable."
      ]
    },
    {
      "cell_type": "markdown",
      "metadata": {
        "id": "WH3xqP37MGG_"
      },
      "source": [
        "---\n",
        "#### **21. In the specification of question 11, test the hypothesis of no heteroskedasticity of linear form.**"
      ]
    },
    {
      "cell_type": "code",
      "execution_count": 152,
      "metadata": {
        "colab": {
          "base_uri": "https://localhost:8080/"
        },
        "id": "lYBUcoZxMMZY",
        "outputId": "68bd2654-8b1f-4912-ee3e-c5aeb4cb3c76"
      },
      "outputs": [
        {
          "name": "stdout",
          "output_type": "stream",
          "text": [
            "                            OLS Regression Results                            \n",
            "==============================================================================\n",
            "Dep. Variable:                      y   R-squared:                       0.116\n",
            "Model:                            OLS   Adj. R-squared:                  0.109\n",
            "Method:                 Least Squares   F-statistic:                     16.51\n",
            "Date:                Sun, 08 Dec 2024   Prob (F-statistic):           1.02e-12\n",
            "Time:                        17:34:23   Log-Likelihood:                 184.66\n",
            "No. Observations:                 506   AIC:                            -359.3\n",
            "Df Residuals:                     501   BIC:                            -338.2\n",
            "Df Model:                           4                                         \n",
            "Covariance Type:            nonrobust                                         \n",
            "==============================================================================\n",
            "                 coef    std err          t      P>|t|      [0.025      0.975]\n",
            "------------------------------------------------------------------------------\n",
            "const         -0.5496      0.167     -3.289      0.001      -0.878      -0.221\n",
            "crime          0.0006      0.001      0.577      0.564      -0.001       0.003\n",
            "lnox           0.0404      0.051      0.794      0.427      -0.060       0.140\n",
            "rooms         -0.0219      0.011     -1.928      0.054      -0.044       0.000\n",
            "lproptax       0.1149      0.028      4.128      0.000       0.060       0.170\n",
            "==============================================================================\n",
            "Omnibus:                      614.102   Durbin-Watson:                   0.913\n",
            "Prob(Omnibus):                  0.000   Jarque-Bera (JB):            48743.795\n",
            "Skew:                           5.895   Prob(JB):                         0.00\n",
            "Kurtosis:                      49.615   Cond. No.                         241.\n",
            "==============================================================================\n",
            "\n",
            "Notes:\n",
            "[1] Standard Errors assume that the covariance matrix of the errors is correctly specified.\n"
          ]
        }
      ],
      "source": [
        "ly=df['lprice']\n",
        "lX = df[['crime', 'lnox', 'rooms', 'lproptax']]\n",
        "lX = sm.add_constant(lX)\n",
        "model=sm.OLS(ly,lX)\n",
        "results = model.fit()\n",
        "betall=np.linalg.inv(lX.T@lX)@lX.T@ly\n",
        "llu=results.resid\n",
        "\n",
        "\n",
        "llu2=llu**2\n",
        "lly_u=llu2\n",
        "model=sm.OLS(lly_u,lX)\n",
        "results = model.fit()\n",
        "print(results.summary())"
      ]
    },
    {
      "cell_type": "markdown",
      "metadata": {
        "id": "iCDZA-7bMPhC"
      },
      "source": [
        "Crime: Not significant (p=0.564).\n",
        "\n",
        "lNOX: Not significant (p=0.427).\n",
        "\n",
        "Rooms: Significant (p=0.054), indicating some heteroskedasticity related to this variable.\n",
        "\n",
        "lProptax: Highly significant (p<0.001), indicating strong evidence of heteroskedasticity related to this variable."
      ]
    },
    {
      "cell_type": "markdown",
      "metadata": {
        "id": "Ye-qWDeQMSvD"
      },
      "source": [
        "---\n",
        "#### **22. Comment on the differences between your results of questions 20,21, 22.**"
      ]
    },
    {
      "cell_type": "markdown",
      "metadata": {
        "id": "v03Kxxf7MY-7"
      },
      "source": [
        "While the the proptax continued to cause heteroskedasticity the model transformations (e.g., logarithmic transformations) clearly helped reduce heteroskedasticity, some residual variance remained due to specific predictors.\n",
        "\n"
      ]
    },
    {
      "cell_type": "markdown",
      "metadata": {
        "id": "Be4rOCV4MkvH"
      },
      "source": [
        "---\n",
        "#### **23. Using the specification of question 9, identify the most significant variable causing heteroskedasticity using the student statistics and run a WLS regression with the identified variable as weight. Compare the standards errors with those of question 9. Comment on your results.**"
      ]
    },
    {
      "cell_type": "code",
      "execution_count": 153,
      "metadata": {
        "colab": {
          "base_uri": "https://localhost:8080/"
        },
        "id": "4O23hjhLMsbS",
        "outputId": "789a9a63-1085-4219-b74c-d8d6a99772d0"
      },
      "outputs": [
        {
          "name": "stdout",
          "output_type": "stream",
          "text": [
            "                            OLS Regression Results                            \n",
            "==============================================================================\n",
            "Dep. Variable:                  price   R-squared:                       0.575\n",
            "Model:                            OLS   Adj. R-squared:                  0.572\n",
            "Method:                 Least Squares   F-statistic:                     169.6\n",
            "Date:                Sun, 08 Dec 2024   Prob (F-statistic):           1.06e-91\n",
            "Time:                        17:34:23   Log-Likelihood:                -5119.6\n",
            "No. Observations:                 506   AIC:                         1.025e+04\n",
            "Df Residuals:                     501   BIC:                         1.027e+04\n",
            "Df Model:                           4                                         \n",
            "Covariance Type:            nonrobust                                         \n",
            "==============================================================================\n",
            "                 coef    std err          t      P>|t|      [0.025      0.975]\n",
            "------------------------------------------------------------------------------\n",
            "const      -1.868e+04   3215.205     -5.811      0.000    -2.5e+04   -1.24e+04\n",
            "crime       -136.5438     38.529     -3.544      0.000    -212.241     -60.846\n",
            "nox         -660.4672    314.634     -2.099      0.036   -1278.632     -42.303\n",
            "rooms       7797.9286    404.345     19.285      0.000    7003.507    8592.350\n",
            "proptax      -89.4144     23.966     -3.731      0.000    -136.500     -42.329\n",
            "==============================================================================\n",
            "Omnibus:                      264.796   Durbin-Watson:                   0.752\n",
            "Prob(Omnibus):                  0.000   Jarque-Bera (JB):             2348.397\n",
            "Skew:                           2.111   Prob(JB):                         0.00\n",
            "Kurtosis:                      12.673   Cond. No.                         546.\n",
            "==============================================================================\n",
            "\n",
            "Notes:\n",
            "[1] Standard Errors assume that the covariance matrix of the errors is correctly specified.\n"
          ]
        }
      ],
      "source": [
        "import statsmodels.api as sm\n",
        "\n",
        "X = sm.add_constant(df[['crime', 'nox', 'rooms', 'proptax']])\n",
        "y = df['price']\n",
        "\n",
        "results_ols = sm.OLS(y, X).fit()\n",
        "\n",
        "print(results_ols.summary())\n"
      ]
    },
    {
      "cell_type": "code",
      "execution_count": 154,
      "metadata": {
        "id": "OWv_w8tHMtBq"
      },
      "outputs": [],
      "source": [
        "from statsmodels.stats.outliers_influence import OLSInfluence\n",
        "\n",
        "influence = OLSInfluence(results_ols)\n",
        "studentized_residuals = influence.resid_studentized_internal\n",
        "\n",
        "df['student_resid'] = studentized_residuals\n"
      ]
    },
    {
      "cell_type": "code",
      "execution_count": 155,
      "metadata": {
        "id": "_JvKLiOoMvWR"
      },
      "outputs": [],
      "source": [
        "resid_squared = studentized_residuals**2\n",
        "X_resid = sm.add_constant(df[['crime', 'nox', 'rooms', 'proptax']])\n",
        "results_resid = sm.OLS(resid_squared, X_resid).fit()"
      ]
    },
    {
      "cell_type": "code",
      "execution_count": 156,
      "metadata": {
        "colab": {
          "base_uri": "https://localhost:8080/"
        },
        "id": "0uDNU3nCMyRE",
        "outputId": "5075b900-ca2f-407e-ba3c-06db3e08bca7"
      },
      "outputs": [
        {
          "name": "stdout",
          "output_type": "stream",
          "text": [
            "                            WLS Regression Results                            \n",
            "==============================================================================\n",
            "Dep. Variable:                  price   R-squared:                       0.610\n",
            "Model:                            WLS   Adj. R-squared:                  0.607\n",
            "Method:                 Least Squares   F-statistic:                     195.7\n",
            "Date:                Sun, 08 Dec 2024   Prob (F-statistic):          6.40e-101\n",
            "Time:                        17:34:23   Log-Likelihood:                -5094.2\n",
            "No. Observations:                 506   AIC:                         1.020e+04\n",
            "Df Residuals:                     501   BIC:                         1.022e+04\n",
            "Df Model:                           4                                         \n",
            "Covariance Type:            nonrobust                                         \n",
            "==============================================================================\n",
            "                 coef    std err          t      P>|t|      [0.025      0.975]\n",
            "------------------------------------------------------------------------------\n",
            "const      -2.323e+04   3101.431     -7.489      0.000   -2.93e+04   -1.71e+04\n",
            "crime       -124.9243     40.398     -3.092      0.002    -204.294     -45.555\n",
            "nox         -612.4467    322.126     -1.901      0.058   -1245.332      20.438\n",
            "rooms       8446.9038    387.446     21.801      0.000    7685.685    9208.123\n",
            "proptax      -85.5683     24.053     -3.557      0.000    -132.826     -38.311\n",
            "==============================================================================\n",
            "Omnibus:                      245.773   Durbin-Watson:                   0.776\n",
            "Prob(Omnibus):                  0.000   Jarque-Bera (JB):             1908.655\n",
            "Skew:                           1.967   Prob(JB):                         0.00\n",
            "Kurtosis:                      11.663   Cond. No.                         529.\n",
            "==============================================================================\n",
            "\n",
            "Notes:\n",
            "[1] Standard Errors assume that the covariance matrix of the errors is correctly specified.\n"
          ]
        }
      ],
      "source": [
        "weights = 1 / df['nox']\n",
        "results_wls = sm.WLS(y, X, weights=weights).fit()\n",
        "print(results_wls.summary())"
      ]
    },
    {
      "cell_type": "code",
      "execution_count": 157,
      "metadata": {
        "colab": {
          "base_uri": "https://localhost:8080/"
        },
        "id": "0VkmBxLiM0d_",
        "outputId": "c3b1c34a-f05c-4cdb-b68c-c63cf5fff4c8"
      },
      "outputs": [
        {
          "name": "stdout",
          "output_type": "stream",
          "text": [
            "OLS Standard Errors:\n",
            "const      3215.204520\n",
            "crime        38.528570\n",
            "nox         314.633813\n",
            "rooms       404.345434\n",
            "proptax      23.965587\n",
            "dtype: float64\n",
            "\n",
            "WLS Standard Errors:\n",
            "const      3101.431448\n",
            "crime        40.397642\n",
            "nox         322.126332\n",
            "rooms       387.446045\n",
            "proptax      24.053294\n",
            "dtype: float64\n"
          ]
        }
      ],
      "source": [
        "print(\"OLS Standard Errors:\")\n",
        "print(results_ols.bse)\n",
        "\n",
        "print(\"\\nWLS Standard Errors:\")\n",
        "print(results_wls.bse)\n"
      ]
    },
    {
      "cell_type": "markdown",
      "metadata": {
        "id": "y6VPLBEUM3hI"
      },
      "source": [
        "In general, WLS reduces standard errors for variables associated with the most severe heteroskedasticity. However, in our results, the standard errors for nox and proptax increased slightly, suggesting that:\n",
        "\n",
        "The variable used for weights might not fully explain the heteroskedasticity.\n",
        "\n",
        "Heteroskedasticity may not have been substantial for these variables.(this is clearly not true for proptax)"
      ]
    },
    {
      "cell_type": "markdown",
      "metadata": {
        "id": "vlOZFdZJLvkD"
      },
      "source": [
        "## PART 3 - TIME SERIES DATA\n",
        "\n",
        "This part uses the `threecenturies_v2.3` datasets.\n",
        "\n",
        "**Import Real GDP at market prices, unemployment rate and consumer price inflation for the period 1900-2000 in Python from the A1 worksheet.**"
      ]
    },
    {
      "cell_type": "code",
      "execution_count": 158,
      "metadata": {
        "colab": {
          "base_uri": "https://localhost:8080/",
          "height": 423
        },
        "id": "5pzBBOxULsZ1",
        "outputId": "fe55d967-e255-47c7-fa84-1f5c3c1c021b"
      },
      "outputs": [
        {
          "data": {
            "application/vnd.google.colaboratory.intrinsic+json": {
              "summary": "{\n  \"name\": \"df\",\n  \"rows\": 101,\n  \"fields\": [\n    {\n      \"column\": \"Year\",\n      \"properties\": {\n        \"dtype\": \"date\",\n        \"min\": 1900,\n        \"max\": 2000,\n        \"num_unique_values\": 101,\n        \"samples\": [\n          1984,\n          1955,\n          1966\n        ],\n        \"semantic_type\": \"\",\n        \"description\": \"\"\n      }\n    },\n    {\n      \"column\": \"Real GDP at market prices\",\n      \"properties\": {\n        \"dtype\": \"date\",\n        \"min\": 181160.2644362752,\n        \"max\": 1418176,\n        \"num_unique_values\": 101,\n        \"samples\": [\n          904639,\n          433302,\n          599211\n        ],\n        \"semantic_type\": \"\",\n        \"description\": \"\"\n      }\n    },\n    {\n      \"column\": \"Unemployment rate\",\n      \"properties\": {\n        \"dtype\": \"date\",\n        \"min\": 0.28345684676602223,\n        \"max\": 15.38729838999768,\n        \"num_unique_values\": 101,\n        \"samples\": [\n          11.774322458766257,\n          1.077974916058572,\n          1.51988631579973\n        ],\n        \"semantic_type\": \"\",\n        \"description\": \"\"\n      }\n    },\n    {\n      \"column\": \"Consumer price inflation\",\n      \"properties\": {\n        \"dtype\": \"date\",\n        \"min\": -14,\n        \"max\": 25.19999999999999,\n        \"num_unique_values\": 98,\n        \"samples\": [\n          4.257167680278016,\n          7.09999999999998,\n          1.824606271085031\n        ],\n        \"semantic_type\": \"\",\n        \"description\": \"\"\n      }\n    }\n  ]\n}",
              "type": "dataframe",
              "variable_name": "df"
            },
            "text/html": [
              "\n",
              "  <div id=\"df-79addef8-20e6-4bdc-a2ea-78dd9f537d5f\" class=\"colab-df-container\">\n",
              "    <div>\n",
              "<style scoped>\n",
              "    .dataframe tbody tr th:only-of-type {\n",
              "        vertical-align: middle;\n",
              "    }\n",
              "\n",
              "    .dataframe tbody tr th {\n",
              "        vertical-align: top;\n",
              "    }\n",
              "\n",
              "    .dataframe thead th {\n",
              "        text-align: right;\n",
              "    }\n",
              "</style>\n",
              "<table border=\"1\" class=\"dataframe\">\n",
              "  <thead>\n",
              "    <tr style=\"text-align: right;\">\n",
              "      <th></th>\n",
              "      <th>Year</th>\n",
              "      <th>Real GDP at market prices</th>\n",
              "      <th>Unemployment rate</th>\n",
              "      <th>Consumer price inflation</th>\n",
              "    </tr>\n",
              "  </thead>\n",
              "  <tbody>\n",
              "    <tr>\n",
              "      <th>0</th>\n",
              "      <td>1900</td>\n",
              "      <td>181160.264436</td>\n",
              "      <td>3.679865</td>\n",
              "      <td>4.058273</td>\n",
              "    </tr>\n",
              "    <tr>\n",
              "      <th>1</th>\n",
              "      <td>1901</td>\n",
              "      <td>184974.529384</td>\n",
              "      <td>4.877351</td>\n",
              "      <td>-0.3</td>\n",
              "    </tr>\n",
              "    <tr>\n",
              "      <th>2</th>\n",
              "      <td>1902</td>\n",
              "      <td>187756.550527</td>\n",
              "      <td>5.145694</td>\n",
              "      <td>0</td>\n",
              "    </tr>\n",
              "    <tr>\n",
              "      <th>3</th>\n",
              "      <td>1903</td>\n",
              "      <td>186015.76815</td>\n",
              "      <td>5.603507</td>\n",
              "      <td>1.10331</td>\n",
              "    </tr>\n",
              "    <tr>\n",
              "      <th>4</th>\n",
              "      <td>1904</td>\n",
              "      <td>188155.559259</td>\n",
              "      <td>6.914821</td>\n",
              "      <td>-0.396825</td>\n",
              "    </tr>\n",
              "    <tr>\n",
              "      <th>...</th>\n",
              "      <td>...</td>\n",
              "      <td>...</td>\n",
              "      <td>...</td>\n",
              "      <td>...</td>\n",
              "    </tr>\n",
              "    <tr>\n",
              "      <th>96</th>\n",
              "      <td>1996</td>\n",
              "      <td>1243709</td>\n",
              "      <td>8.097052</td>\n",
              "      <td>2.400308</td>\n",
              "    </tr>\n",
              "    <tr>\n",
              "      <th>97</th>\n",
              "      <td>1997</td>\n",
              "      <td>1282602</td>\n",
              "      <td>6.972014</td>\n",
              "      <td>1.824606</td>\n",
              "    </tr>\n",
              "    <tr>\n",
              "      <th>98</th>\n",
              "      <td>1998</td>\n",
              "      <td>1323527</td>\n",
              "      <td>6.255467</td>\n",
              "      <td>1.557398</td>\n",
              "    </tr>\n",
              "    <tr>\n",
              "      <th>99</th>\n",
              "      <td>1999</td>\n",
              "      <td>1366983</td>\n",
              "      <td>5.976813</td>\n",
              "      <td>1.32871</td>\n",
              "    </tr>\n",
              "    <tr>\n",
              "      <th>100</th>\n",
              "      <td>2000</td>\n",
              "      <td>1418176</td>\n",
              "      <td>5.459049</td>\n",
              "      <td>0.796456</td>\n",
              "    </tr>\n",
              "  </tbody>\n",
              "</table>\n",
              "<p>101 rows × 4 columns</p>\n",
              "</div>\n",
              "    <div class=\"colab-df-buttons\">\n",
              "\n",
              "  <div class=\"colab-df-container\">\n",
              "    <button class=\"colab-df-convert\" onclick=\"convertToInteractive('df-79addef8-20e6-4bdc-a2ea-78dd9f537d5f')\"\n",
              "            title=\"Convert this dataframe to an interactive table.\"\n",
              "            style=\"display:none;\">\n",
              "\n",
              "  <svg xmlns=\"http://www.w3.org/2000/svg\" height=\"24px\" viewBox=\"0 -960 960 960\">\n",
              "    <path d=\"M120-120v-720h720v720H120Zm60-500h600v-160H180v160Zm220 220h160v-160H400v160Zm0 220h160v-160H400v160ZM180-400h160v-160H180v160Zm440 0h160v-160H620v160ZM180-180h160v-160H180v160Zm440 0h160v-160H620v160Z\"/>\n",
              "  </svg>\n",
              "    </button>\n",
              "\n",
              "  <style>\n",
              "    .colab-df-container {\n",
              "      display:flex;\n",
              "      gap: 12px;\n",
              "    }\n",
              "\n",
              "    .colab-df-convert {\n",
              "      background-color: #E8F0FE;\n",
              "      border: none;\n",
              "      border-radius: 50%;\n",
              "      cursor: pointer;\n",
              "      display: none;\n",
              "      fill: #1967D2;\n",
              "      height: 32px;\n",
              "      padding: 0 0 0 0;\n",
              "      width: 32px;\n",
              "    }\n",
              "\n",
              "    .colab-df-convert:hover {\n",
              "      background-color: #E2EBFA;\n",
              "      box-shadow: 0px 1px 2px rgba(60, 64, 67, 0.3), 0px 1px 3px 1px rgba(60, 64, 67, 0.15);\n",
              "      fill: #174EA6;\n",
              "    }\n",
              "\n",
              "    .colab-df-buttons div {\n",
              "      margin-bottom: 4px;\n",
              "    }\n",
              "\n",
              "    [theme=dark] .colab-df-convert {\n",
              "      background-color: #3B4455;\n",
              "      fill: #D2E3FC;\n",
              "    }\n",
              "\n",
              "    [theme=dark] .colab-df-convert:hover {\n",
              "      background-color: #434B5C;\n",
              "      box-shadow: 0px 1px 3px 1px rgba(0, 0, 0, 0.15);\n",
              "      filter: drop-shadow(0px 1px 2px rgba(0, 0, 0, 0.3));\n",
              "      fill: #FFFFFF;\n",
              "    }\n",
              "  </style>\n",
              "\n",
              "    <script>\n",
              "      const buttonEl =\n",
              "        document.querySelector('#df-79addef8-20e6-4bdc-a2ea-78dd9f537d5f button.colab-df-convert');\n",
              "      buttonEl.style.display =\n",
              "        google.colab.kernel.accessAllowed ? 'block' : 'none';\n",
              "\n",
              "      async function convertToInteractive(key) {\n",
              "        const element = document.querySelector('#df-79addef8-20e6-4bdc-a2ea-78dd9f537d5f');\n",
              "        const dataTable =\n",
              "          await google.colab.kernel.invokeFunction('convertToInteractive',\n",
              "                                                    [key], {});\n",
              "        if (!dataTable) return;\n",
              "\n",
              "        const docLinkHtml = 'Like what you see? Visit the ' +\n",
              "          '<a target=\"_blank\" href=https://colab.research.google.com/notebooks/data_table.ipynb>data table notebook</a>'\n",
              "          + ' to learn more about interactive tables.';\n",
              "        element.innerHTML = '';\n",
              "        dataTable['output_type'] = 'display_data';\n",
              "        await google.colab.output.renderOutput(dataTable, element);\n",
              "        const docLink = document.createElement('div');\n",
              "        docLink.innerHTML = docLinkHtml;\n",
              "        element.appendChild(docLink);\n",
              "      }\n",
              "    </script>\n",
              "  </div>\n",
              "\n",
              "\n",
              "<div id=\"df-50c6d322-32e3-4709-8a93-e1ac26750140\">\n",
              "  <button class=\"colab-df-quickchart\" onclick=\"quickchart('df-50c6d322-32e3-4709-8a93-e1ac26750140')\"\n",
              "            title=\"Suggest charts\"\n",
              "            style=\"display:none;\">\n",
              "\n",
              "<svg xmlns=\"http://www.w3.org/2000/svg\" height=\"24px\"viewBox=\"0 0 24 24\"\n",
              "     width=\"24px\">\n",
              "    <g>\n",
              "        <path d=\"M19 3H5c-1.1 0-2 .9-2 2v14c0 1.1.9 2 2 2h14c1.1 0 2-.9 2-2V5c0-1.1-.9-2-2-2zM9 17H7v-7h2v7zm4 0h-2V7h2v10zm4 0h-2v-4h2v4z\"/>\n",
              "    </g>\n",
              "</svg>\n",
              "  </button>\n",
              "\n",
              "<style>\n",
              "  .colab-df-quickchart {\n",
              "      --bg-color: #E8F0FE;\n",
              "      --fill-color: #1967D2;\n",
              "      --hover-bg-color: #E2EBFA;\n",
              "      --hover-fill-color: #174EA6;\n",
              "      --disabled-fill-color: #AAA;\n",
              "      --disabled-bg-color: #DDD;\n",
              "  }\n",
              "\n",
              "  [theme=dark] .colab-df-quickchart {\n",
              "      --bg-color: #3B4455;\n",
              "      --fill-color: #D2E3FC;\n",
              "      --hover-bg-color: #434B5C;\n",
              "      --hover-fill-color: #FFFFFF;\n",
              "      --disabled-bg-color: #3B4455;\n",
              "      --disabled-fill-color: #666;\n",
              "  }\n",
              "\n",
              "  .colab-df-quickchart {\n",
              "    background-color: var(--bg-color);\n",
              "    border: none;\n",
              "    border-radius: 50%;\n",
              "    cursor: pointer;\n",
              "    display: none;\n",
              "    fill: var(--fill-color);\n",
              "    height: 32px;\n",
              "    padding: 0;\n",
              "    width: 32px;\n",
              "  }\n",
              "\n",
              "  .colab-df-quickchart:hover {\n",
              "    background-color: var(--hover-bg-color);\n",
              "    box-shadow: 0 1px 2px rgba(60, 64, 67, 0.3), 0 1px 3px 1px rgba(60, 64, 67, 0.15);\n",
              "    fill: var(--button-hover-fill-color);\n",
              "  }\n",
              "\n",
              "  .colab-df-quickchart-complete:disabled,\n",
              "  .colab-df-quickchart-complete:disabled:hover {\n",
              "    background-color: var(--disabled-bg-color);\n",
              "    fill: var(--disabled-fill-color);\n",
              "    box-shadow: none;\n",
              "  }\n",
              "\n",
              "  .colab-df-spinner {\n",
              "    border: 2px solid var(--fill-color);\n",
              "    border-color: transparent;\n",
              "    border-bottom-color: var(--fill-color);\n",
              "    animation:\n",
              "      spin 1s steps(1) infinite;\n",
              "  }\n",
              "\n",
              "  @keyframes spin {\n",
              "    0% {\n",
              "      border-color: transparent;\n",
              "      border-bottom-color: var(--fill-color);\n",
              "      border-left-color: var(--fill-color);\n",
              "    }\n",
              "    20% {\n",
              "      border-color: transparent;\n",
              "      border-left-color: var(--fill-color);\n",
              "      border-top-color: var(--fill-color);\n",
              "    }\n",
              "    30% {\n",
              "      border-color: transparent;\n",
              "      border-left-color: var(--fill-color);\n",
              "      border-top-color: var(--fill-color);\n",
              "      border-right-color: var(--fill-color);\n",
              "    }\n",
              "    40% {\n",
              "      border-color: transparent;\n",
              "      border-right-color: var(--fill-color);\n",
              "      border-top-color: var(--fill-color);\n",
              "    }\n",
              "    60% {\n",
              "      border-color: transparent;\n",
              "      border-right-color: var(--fill-color);\n",
              "    }\n",
              "    80% {\n",
              "      border-color: transparent;\n",
              "      border-right-color: var(--fill-color);\n",
              "      border-bottom-color: var(--fill-color);\n",
              "    }\n",
              "    90% {\n",
              "      border-color: transparent;\n",
              "      border-bottom-color: var(--fill-color);\n",
              "    }\n",
              "  }\n",
              "</style>\n",
              "\n",
              "  <script>\n",
              "    async function quickchart(key) {\n",
              "      const quickchartButtonEl =\n",
              "        document.querySelector('#' + key + ' button');\n",
              "      quickchartButtonEl.disabled = true;  // To prevent multiple clicks.\n",
              "      quickchartButtonEl.classList.add('colab-df-spinner');\n",
              "      try {\n",
              "        const charts = await google.colab.kernel.invokeFunction(\n",
              "            'suggestCharts', [key], {});\n",
              "      } catch (error) {\n",
              "        console.error('Error during call to suggestCharts:', error);\n",
              "      }\n",
              "      quickchartButtonEl.classList.remove('colab-df-spinner');\n",
              "      quickchartButtonEl.classList.add('colab-df-quickchart-complete');\n",
              "    }\n",
              "    (() => {\n",
              "      let quickchartButtonEl =\n",
              "        document.querySelector('#df-50c6d322-32e3-4709-8a93-e1ac26750140 button');\n",
              "      quickchartButtonEl.style.display =\n",
              "        google.colab.kernel.accessAllowed ? 'block' : 'none';\n",
              "    })();\n",
              "  </script>\n",
              "</div>\n",
              "\n",
              "  <div id=\"id_ddc77b4b-7f0a-4db8-86c7-60d7cea03a2f\">\n",
              "    <style>\n",
              "      .colab-df-generate {\n",
              "        background-color: #E8F0FE;\n",
              "        border: none;\n",
              "        border-radius: 50%;\n",
              "        cursor: pointer;\n",
              "        display: none;\n",
              "        fill: #1967D2;\n",
              "        height: 32px;\n",
              "        padding: 0 0 0 0;\n",
              "        width: 32px;\n",
              "      }\n",
              "\n",
              "      .colab-df-generate:hover {\n",
              "        background-color: #E2EBFA;\n",
              "        box-shadow: 0px 1px 2px rgba(60, 64, 67, 0.3), 0px 1px 3px 1px rgba(60, 64, 67, 0.15);\n",
              "        fill: #174EA6;\n",
              "      }\n",
              "\n",
              "      [theme=dark] .colab-df-generate {\n",
              "        background-color: #3B4455;\n",
              "        fill: #D2E3FC;\n",
              "      }\n",
              "\n",
              "      [theme=dark] .colab-df-generate:hover {\n",
              "        background-color: #434B5C;\n",
              "        box-shadow: 0px 1px 3px 1px rgba(0, 0, 0, 0.15);\n",
              "        filter: drop-shadow(0px 1px 2px rgba(0, 0, 0, 0.3));\n",
              "        fill: #FFFFFF;\n",
              "      }\n",
              "    </style>\n",
              "    <button class=\"colab-df-generate\" onclick=\"generateWithVariable('df')\"\n",
              "            title=\"Generate code using this dataframe.\"\n",
              "            style=\"display:none;\">\n",
              "\n",
              "  <svg xmlns=\"http://www.w3.org/2000/svg\" height=\"24px\"viewBox=\"0 0 24 24\"\n",
              "       width=\"24px\">\n",
              "    <path d=\"M7,19H8.4L18.45,9,17,7.55,7,17.6ZM5,21V16.75L18.45,3.32a2,2,0,0,1,2.83,0l1.4,1.43a1.91,1.91,0,0,1,.58,1.4,1.91,1.91,0,0,1-.58,1.4L9.25,21ZM18.45,9,17,7.55Zm-12,3A5.31,5.31,0,0,0,4.9,8.1,5.31,5.31,0,0,0,1,6.5,5.31,5.31,0,0,0,4.9,4.9,5.31,5.31,0,0,0,6.5,1,5.31,5.31,0,0,0,8.1,4.9,5.31,5.31,0,0,0,12,6.5,5.46,5.46,0,0,0,6.5,12Z\"/>\n",
              "  </svg>\n",
              "    </button>\n",
              "    <script>\n",
              "      (() => {\n",
              "      const buttonEl =\n",
              "        document.querySelector('#id_ddc77b4b-7f0a-4db8-86c7-60d7cea03a2f button.colab-df-generate');\n",
              "      buttonEl.style.display =\n",
              "        google.colab.kernel.accessAllowed ? 'block' : 'none';\n",
              "\n",
              "      buttonEl.onclick = () => {\n",
              "        google.colab.notebook.generateWithVariable('df');\n",
              "      }\n",
              "      })();\n",
              "    </script>\n",
              "  </div>\n",
              "\n",
              "    </div>\n",
              "  </div>\n"
            ],
            "text/plain": [
              "     Year Real GDP at market prices Unemployment rate Consumer price inflation\n",
              "0    1900             181160.264436          3.679865                 4.058273\n",
              "1    1901             184974.529384          4.877351                     -0.3\n",
              "2    1902             187756.550527          5.145694                        0\n",
              "3    1903              186015.76815          5.603507                  1.10331\n",
              "4    1904             188155.559259          6.914821                -0.396825\n",
              "..    ...                       ...               ...                      ...\n",
              "96   1996                   1243709          8.097052                 2.400308\n",
              "97   1997                   1282602          6.972014                 1.824606\n",
              "98   1998                   1323527          6.255467                 1.557398\n",
              "99   1999                   1366983          5.976813                  1.32871\n",
              "100  2000                   1418176          5.459049                 0.796456\n",
              "\n",
              "[101 rows x 4 columns]"
            ]
          },
          "execution_count": 158,
          "metadata": {},
          "output_type": "execute_result"
        }
      ],
      "source": [
        "import pandas as pd\n",
        "df = pd.read_excel('threecenturies_v2.3.xlsx', sheet_name='A1. Headline series', header=3)\n",
        "df = df.drop(df.index[:3])\n",
        "df.rename(columns={'Description': 'Year'}, inplace=True)\n",
        "df = df[['Year', 'Real GDP at market prices', 'Unemployment rate', 'Consumer price inflation']]\n",
        "df = df[(df['Year'] >= 1900) & (df['Year'] <= 2000)]\n",
        "df.reset_index(drop=True, inplace=True)\n",
        "df"
      ]
    },
    {
      "cell_type": "markdown",
      "metadata": {
        "id": "3raAqBwiMIn8"
      },
      "source": [
        "---\n",
        "#### **24. Define strict and weak stationarity.**"
      ]
    },
    {
      "cell_type": "markdown",
      "metadata": {
        "id": "sqMy4mIsNoPX"
      },
      "source": [
        "* **Strict stationarity:** A time series is defined as strictly stationary if the joint probability distribution of its observations does not change when shifted in time. In simpler terms, for any group of time points, the complete probability distribution of the data—including its mean, variance, and higher-order moments—remains the same. This means that all statistical characteristics of the time series are consistent over time, making strict stationarity a more rigorous criterion compared to, for instance, covariance stationarity.\n",
        "\n",
        "* **Weak stationarity:** A time series is referred to as weakly stationary when its mean, variance, and autocorrelation structure remain constant over time, even though its full probability distribution may not."
      ]
    },
    {
      "cell_type": "markdown",
      "metadata": {
        "id": "j7lo1mffOUmv"
      },
      "source": [
        "---\n",
        "#### **25. Explain ergodicity and state the ergodic theorem. Illustrate with an example.**"
      ]
    },
    {
      "cell_type": "markdown",
      "metadata": {
        "id": "LI8mld6kPpEI"
      },
      "source": [
        "* **Ergodicity:** This is a mathematical concept that describes how a system behaves over time, highlighting its capacity to \"forget\" its starting conditions. It suggests that, over a sufficiently long duration, any point within the system will explore all parts of its space in a uniform and random manner. This means the system's average properties can be inferred from the trajectory of a single representative point. In other words, a large set of random samples from the system effectively reflects the average statistical characteristics of the entire process.\n",
        "\n",
        "* **Ergodic theorem:** If a time series $\\{y_{t}\\}$ is strictly stationary and ergodic, and the expected value of the stochastic process exists, *i.e.*, $E(Y_{t}) < \\infty$ as $t \\to \\infty$, then the time average converges to the spatial average (the expected value) as the number of observations grows. In other terms, the average behavior of the system over time is equal to its average behavior across its state space.\n",
        "\n",
        "* **Example:** Take the case of flipping a fair coin. Ergodicity implies that after a large number of flips, the observed proportion of heads and tails will approach the theoretical probabilities of the coin ($0.5$ for heads and $0.5$ for tails). This demonstrates that the long-term behavior of the coin-flipping process matches the underlying probabilities of a fair coin, even though each individual flip is inherently random.\n"
      ]
    },
    {
      "cell_type": "markdown",
      "metadata": {
        "id": "epQGj2b-QjiJ"
      },
      "source": [
        "---\n",
        "#### **26. Why do we need both stationarity and ergodicity?**"
      ]
    },
    {
      "cell_type": "markdown",
      "metadata": {
        "id": "rr-O5yejQw0k"
      },
      "source": [
        "These conditions are essential for applying the ergodic theorem, which allows us to approximate the expected value of the process by using the average of a sufficiently large sample."
      ]
    },
    {
      "cell_type": "markdown",
      "metadata": {
        "id": "YnanTxf_Q4dW"
      },
      "source": [
        "---\n",
        "#### **27. Explain “spurious regression”.**"
      ]
    },
    {
      "cell_type": "markdown",
      "metadata": {
        "id": "kjerSPc2RErn"
      },
      "source": [
        "Spurious regression arises when two time series variables appear to be correlated or exhibit a strong statistical relationship, even though they are actually independent and have no real connection. This phenomenon is often associated with the presence of stochastic trends in the time series data."
      ]
    },
    {
      "cell_type": "markdown",
      "metadata": {
        "id": "XztxwxqTSdyB"
      },
      "source": [
        "---\n",
        "#### **28. Make all time series stationary by computing the difference between the original variable and a moving average of order 2x10. Give the formula for the exact weights.**"
      ]
    },
    {
      "cell_type": "code",
      "execution_count": 159,
      "metadata": {
        "colab": {
          "base_uri": "https://localhost:8080/"
        },
        "id": "8m96P5YKSlAl",
        "outputId": "d3e2760c-7569-4561-f746-9c973888bb3d"
      },
      "outputs": [
        {
          "name": "stdout",
          "output_type": "stream",
          "text": [
            "     Year Real GDP at market prices Unemployment rate Consumer price inflation\n",
            "0    1900                       NaN               NaN                      NaN\n",
            "1    1901                       NaN               NaN                      NaN\n",
            "2    1902                       NaN               NaN                      NaN\n",
            "3    1903                       NaN               NaN                      NaN\n",
            "4    1904                       NaN               NaN                      NaN\n",
            "..    ...                       ...               ...                      ...\n",
            "96   1996                 242120.35          -0.81621                -3.940393\n",
            "97   1997                  256477.7         -2.010158                -3.860199\n",
            "98   1998                  272481.9         -2.764216                -3.831667\n",
            "99   1999                  290385.4         -3.072811                -3.558167\n",
            "100  2000                  312592.7         -3.523062                -3.372527\n",
            "\n",
            "[101 rows x 4 columns]\n",
            "Weights of the moving average of order 20: [0.05, 0.05, 0.05, 0.05, 0.05, 0.05, 0.05, 0.05, 0.05, 0.05, 0.05, 0.05, 0.05, 0.05, 0.05, 0.05, 0.05, 0.05, 0.05, 0.05]\n"
          ]
        }
      ],
      "source": [
        "columns_to_transform = df.columns[1:]\n",
        "df_diff = df.copy()\n",
        "\n",
        "for col in columns_to_transform:\n",
        "\n",
        "    df_diff[col] = df_diff[col] - df_diff[col].rolling(window=20).mean()\n",
        "\n",
        "print(df_diff)\n",
        "\n",
        "moving_avg_weights = [1/20] * 20\n",
        "print(f\"Weights of the moving average of order 20: {moving_avg_weights}\")\n"
      ]
    },
    {
      "cell_type": "markdown",
      "metadata": {
        "id": "UoymR2eqV4XS"
      },
      "source": [
        "---\n",
        "#### **29. Using the original dataset, test the unit root hypothesis for all variables.**"
      ]
    },
    {
      "cell_type": "code",
      "execution_count": 160,
      "metadata": {
        "colab": {
          "base_uri": "https://localhost:8080/"
        },
        "id": "mpPce5v1WLQg",
        "outputId": "3132c52c-a29b-4212-8c04-6c142c2e70a9"
      },
      "outputs": [
        {
          "name": "stdout",
          "output_type": "stream",
          "text": [
            "Unemployment rate\n",
            "ADF Statistic: -2.045\n",
            "p-value: 0.267\n",
            "\n",
            "Consumer price inflation\n",
            "ADF Statistic: -3.669\n",
            "p-value: 0.005\n",
            "\n"
          ]
        }
      ],
      "source": [
        "from statsmodels.tsa.stattools import adfuller\n",
        "\n",
        "for feature in df.columns[2:]:\n",
        "    adf_result = adfuller(df[feature].dropna(), maxlag=0)\n",
        "    print(f'{feature}')\n",
        "    print(f'ADF Statistic: {adf_result[0]:.3f}')\n",
        "    print(f'p-value: {adf_result[1]:.3f}\\n')\n"
      ]
    },
    {
      "cell_type": "markdown",
      "metadata": {
        "id": "EcWSip_UYbrO"
      },
      "source": [
        "---\n",
        "#### **30.Transform all variables so that they are stationary using either your answers to questions 28 or to question 29.**"
      ]
    },
    {
      "cell_type": "code",
      "execution_count": 161,
      "metadata": {
        "colab": {
          "base_uri": "https://localhost:8080/",
          "height": 423
        },
        "id": "eClmbMWRcOxp",
        "outputId": "62cb1de6-6f50-4f74-a43a-770e28d5d0da"
      },
      "outputs": [
        {
          "data": {
            "application/vnd.google.colaboratory.intrinsic+json": {
              "summary": "{\n  \"name\": \"df_stationary\",\n  \"rows\": 101,\n  \"fields\": [\n    {\n      \"column\": \"Year\",\n      \"properties\": {\n        \"dtype\": \"date\",\n        \"min\": 1900,\n        \"max\": 2000,\n        \"num_unique_values\": 101,\n        \"samples\": [\n          1984,\n          1955,\n          1966\n        ],\n        \"semantic_type\": \"\",\n        \"description\": \"\"\n      }\n    },\n    {\n      \"column\": \"Real GDP at market prices\",\n      \"properties\": {\n        \"dtype\": \"date\",\n        \"min\": -20723.798058860353,\n        \"max\": 59283,\n        \"num_unique_values\": 100,\n        \"samples\": [\n          20119,\n          17194,\n          23656\n        ],\n        \"semantic_type\": \"\",\n        \"description\": \"\"\n      }\n    },\n    {\n      \"column\": \"Unemployment rate\",\n      \"properties\": {\n        \"dtype\": \"date\",\n        \"min\": -3.5172118656030404,\n        \"max\": 9.06923683415066,\n        \"num_unique_values\": 100,\n        \"samples\": [\n          0.3020257652899385,\n          -0.27333516896008625,\n          1.7000973744689523\n        ],\n        \"semantic_type\": \"\",\n        \"description\": \"\"\n      }\n    },\n    {\n      \"column\": \"Consumer price inflation\",\n      \"properties\": {\n        \"dtype\": \"date\",\n        \"min\": -23.999999999999986,\n        \"max\": 14.0,\n        \"num_unique_values\": 100,\n        \"samples\": [\n          -0.6769548116504893,\n          -1.3330820265380083,\n          2.8963047461957814\n        ],\n        \"semantic_type\": \"\",\n        \"description\": \"\"\n      }\n    }\n  ]\n}",
              "type": "dataframe",
              "variable_name": "df_stationary"
            },
            "text/html": [
              "\n",
              "  <div id=\"df-38511c40-8922-44d5-ac34-200ab0fe411f\" class=\"colab-df-container\">\n",
              "    <div>\n",
              "<style scoped>\n",
              "    .dataframe tbody tr th:only-of-type {\n",
              "        vertical-align: middle;\n",
              "    }\n",
              "\n",
              "    .dataframe tbody tr th {\n",
              "        vertical-align: top;\n",
              "    }\n",
              "\n",
              "    .dataframe thead th {\n",
              "        text-align: right;\n",
              "    }\n",
              "</style>\n",
              "<table border=\"1\" class=\"dataframe\">\n",
              "  <thead>\n",
              "    <tr style=\"text-align: right;\">\n",
              "      <th></th>\n",
              "      <th>Year</th>\n",
              "      <th>Real GDP at market prices</th>\n",
              "      <th>Unemployment rate</th>\n",
              "      <th>Consumer price inflation</th>\n",
              "    </tr>\n",
              "  </thead>\n",
              "  <tbody>\n",
              "    <tr>\n",
              "      <th>0</th>\n",
              "      <td>1900</td>\n",
              "      <td>NaN</td>\n",
              "      <td>NaN</td>\n",
              "      <td>NaN</td>\n",
              "    </tr>\n",
              "    <tr>\n",
              "      <th>1</th>\n",
              "      <td>1901</td>\n",
              "      <td>3814.264947</td>\n",
              "      <td>1.197486</td>\n",
              "      <td>-4.358273</td>\n",
              "    </tr>\n",
              "    <tr>\n",
              "      <th>2</th>\n",
              "      <td>1902</td>\n",
              "      <td>2782.021143</td>\n",
              "      <td>0.268343</td>\n",
              "      <td>0.3</td>\n",
              "    </tr>\n",
              "    <tr>\n",
              "      <th>3</th>\n",
              "      <td>1903</td>\n",
              "      <td>-1740.782376</td>\n",
              "      <td>0.457813</td>\n",
              "      <td>1.10331</td>\n",
              "    </tr>\n",
              "    <tr>\n",
              "      <th>4</th>\n",
              "      <td>1904</td>\n",
              "      <td>2139.791108</td>\n",
              "      <td>1.311314</td>\n",
              "      <td>-1.500135</td>\n",
              "    </tr>\n",
              "    <tr>\n",
              "      <th>...</th>\n",
              "      <td>...</td>\n",
              "      <td>...</td>\n",
              "      <td>...</td>\n",
              "      <td>...</td>\n",
              "    </tr>\n",
              "    <tr>\n",
              "      <th>96</th>\n",
              "      <td>1996</td>\n",
              "      <td>30911</td>\n",
              "      <td>-0.524736</td>\n",
              "      <td>-0.256144</td>\n",
              "    </tr>\n",
              "    <tr>\n",
              "      <th>97</th>\n",
              "      <td>1997</td>\n",
              "      <td>38893</td>\n",
              "      <td>-1.125038</td>\n",
              "      <td>-0.575702</td>\n",
              "    </tr>\n",
              "    <tr>\n",
              "      <th>98</th>\n",
              "      <td>1998</td>\n",
              "      <td>40925</td>\n",
              "      <td>-0.716547</td>\n",
              "      <td>-0.267209</td>\n",
              "    </tr>\n",
              "    <tr>\n",
              "      <th>99</th>\n",
              "      <td>1999</td>\n",
              "      <td>43456</td>\n",
              "      <td>-0.278654</td>\n",
              "      <td>-0.228687</td>\n",
              "    </tr>\n",
              "    <tr>\n",
              "      <th>100</th>\n",
              "      <td>2000</td>\n",
              "      <td>51193</td>\n",
              "      <td>-0.517764</td>\n",
              "      <td>-0.532254</td>\n",
              "    </tr>\n",
              "  </tbody>\n",
              "</table>\n",
              "<p>101 rows × 4 columns</p>\n",
              "</div>\n",
              "    <div class=\"colab-df-buttons\">\n",
              "\n",
              "  <div class=\"colab-df-container\">\n",
              "    <button class=\"colab-df-convert\" onclick=\"convertToInteractive('df-38511c40-8922-44d5-ac34-200ab0fe411f')\"\n",
              "            title=\"Convert this dataframe to an interactive table.\"\n",
              "            style=\"display:none;\">\n",
              "\n",
              "  <svg xmlns=\"http://www.w3.org/2000/svg\" height=\"24px\" viewBox=\"0 -960 960 960\">\n",
              "    <path d=\"M120-120v-720h720v720H120Zm60-500h600v-160H180v160Zm220 220h160v-160H400v160Zm0 220h160v-160H400v160ZM180-400h160v-160H180v160Zm440 0h160v-160H620v160ZM180-180h160v-160H180v160Zm440 0h160v-160H620v160Z\"/>\n",
              "  </svg>\n",
              "    </button>\n",
              "\n",
              "  <style>\n",
              "    .colab-df-container {\n",
              "      display:flex;\n",
              "      gap: 12px;\n",
              "    }\n",
              "\n",
              "    .colab-df-convert {\n",
              "      background-color: #E8F0FE;\n",
              "      border: none;\n",
              "      border-radius: 50%;\n",
              "      cursor: pointer;\n",
              "      display: none;\n",
              "      fill: #1967D2;\n",
              "      height: 32px;\n",
              "      padding: 0 0 0 0;\n",
              "      width: 32px;\n",
              "    }\n",
              "\n",
              "    .colab-df-convert:hover {\n",
              "      background-color: #E2EBFA;\n",
              "      box-shadow: 0px 1px 2px rgba(60, 64, 67, 0.3), 0px 1px 3px 1px rgba(60, 64, 67, 0.15);\n",
              "      fill: #174EA6;\n",
              "    }\n",
              "\n",
              "    .colab-df-buttons div {\n",
              "      margin-bottom: 4px;\n",
              "    }\n",
              "\n",
              "    [theme=dark] .colab-df-convert {\n",
              "      background-color: #3B4455;\n",
              "      fill: #D2E3FC;\n",
              "    }\n",
              "\n",
              "    [theme=dark] .colab-df-convert:hover {\n",
              "      background-color: #434B5C;\n",
              "      box-shadow: 0px 1px 3px 1px rgba(0, 0, 0, 0.15);\n",
              "      filter: drop-shadow(0px 1px 2px rgba(0, 0, 0, 0.3));\n",
              "      fill: #FFFFFF;\n",
              "    }\n",
              "  </style>\n",
              "\n",
              "    <script>\n",
              "      const buttonEl =\n",
              "        document.querySelector('#df-38511c40-8922-44d5-ac34-200ab0fe411f button.colab-df-convert');\n",
              "      buttonEl.style.display =\n",
              "        google.colab.kernel.accessAllowed ? 'block' : 'none';\n",
              "\n",
              "      async function convertToInteractive(key) {\n",
              "        const element = document.querySelector('#df-38511c40-8922-44d5-ac34-200ab0fe411f');\n",
              "        const dataTable =\n",
              "          await google.colab.kernel.invokeFunction('convertToInteractive',\n",
              "                                                    [key], {});\n",
              "        if (!dataTable) return;\n",
              "\n",
              "        const docLinkHtml = 'Like what you see? Visit the ' +\n",
              "          '<a target=\"_blank\" href=https://colab.research.google.com/notebooks/data_table.ipynb>data table notebook</a>'\n",
              "          + ' to learn more about interactive tables.';\n",
              "        element.innerHTML = '';\n",
              "        dataTable['output_type'] = 'display_data';\n",
              "        await google.colab.output.renderOutput(dataTable, element);\n",
              "        const docLink = document.createElement('div');\n",
              "        docLink.innerHTML = docLinkHtml;\n",
              "        element.appendChild(docLink);\n",
              "      }\n",
              "    </script>\n",
              "  </div>\n",
              "\n",
              "\n",
              "<div id=\"df-755f2d1e-317d-4094-8d02-121ce5ed798a\">\n",
              "  <button class=\"colab-df-quickchart\" onclick=\"quickchart('df-755f2d1e-317d-4094-8d02-121ce5ed798a')\"\n",
              "            title=\"Suggest charts\"\n",
              "            style=\"display:none;\">\n",
              "\n",
              "<svg xmlns=\"http://www.w3.org/2000/svg\" height=\"24px\"viewBox=\"0 0 24 24\"\n",
              "     width=\"24px\">\n",
              "    <g>\n",
              "        <path d=\"M19 3H5c-1.1 0-2 .9-2 2v14c0 1.1.9 2 2 2h14c1.1 0 2-.9 2-2V5c0-1.1-.9-2-2-2zM9 17H7v-7h2v7zm4 0h-2V7h2v10zm4 0h-2v-4h2v4z\"/>\n",
              "    </g>\n",
              "</svg>\n",
              "  </button>\n",
              "\n",
              "<style>\n",
              "  .colab-df-quickchart {\n",
              "      --bg-color: #E8F0FE;\n",
              "      --fill-color: #1967D2;\n",
              "      --hover-bg-color: #E2EBFA;\n",
              "      --hover-fill-color: #174EA6;\n",
              "      --disabled-fill-color: #AAA;\n",
              "      --disabled-bg-color: #DDD;\n",
              "  }\n",
              "\n",
              "  [theme=dark] .colab-df-quickchart {\n",
              "      --bg-color: #3B4455;\n",
              "      --fill-color: #D2E3FC;\n",
              "      --hover-bg-color: #434B5C;\n",
              "      --hover-fill-color: #FFFFFF;\n",
              "      --disabled-bg-color: #3B4455;\n",
              "      --disabled-fill-color: #666;\n",
              "  }\n",
              "\n",
              "  .colab-df-quickchart {\n",
              "    background-color: var(--bg-color);\n",
              "    border: none;\n",
              "    border-radius: 50%;\n",
              "    cursor: pointer;\n",
              "    display: none;\n",
              "    fill: var(--fill-color);\n",
              "    height: 32px;\n",
              "    padding: 0;\n",
              "    width: 32px;\n",
              "  }\n",
              "\n",
              "  .colab-df-quickchart:hover {\n",
              "    background-color: var(--hover-bg-color);\n",
              "    box-shadow: 0 1px 2px rgba(60, 64, 67, 0.3), 0 1px 3px 1px rgba(60, 64, 67, 0.15);\n",
              "    fill: var(--button-hover-fill-color);\n",
              "  }\n",
              "\n",
              "  .colab-df-quickchart-complete:disabled,\n",
              "  .colab-df-quickchart-complete:disabled:hover {\n",
              "    background-color: var(--disabled-bg-color);\n",
              "    fill: var(--disabled-fill-color);\n",
              "    box-shadow: none;\n",
              "  }\n",
              "\n",
              "  .colab-df-spinner {\n",
              "    border: 2px solid var(--fill-color);\n",
              "    border-color: transparent;\n",
              "    border-bottom-color: var(--fill-color);\n",
              "    animation:\n",
              "      spin 1s steps(1) infinite;\n",
              "  }\n",
              "\n",
              "  @keyframes spin {\n",
              "    0% {\n",
              "      border-color: transparent;\n",
              "      border-bottom-color: var(--fill-color);\n",
              "      border-left-color: var(--fill-color);\n",
              "    }\n",
              "    20% {\n",
              "      border-color: transparent;\n",
              "      border-left-color: var(--fill-color);\n",
              "      border-top-color: var(--fill-color);\n",
              "    }\n",
              "    30% {\n",
              "      border-color: transparent;\n",
              "      border-left-color: var(--fill-color);\n",
              "      border-top-color: var(--fill-color);\n",
              "      border-right-color: var(--fill-color);\n",
              "    }\n",
              "    40% {\n",
              "      border-color: transparent;\n",
              "      border-right-color: var(--fill-color);\n",
              "      border-top-color: var(--fill-color);\n",
              "    }\n",
              "    60% {\n",
              "      border-color: transparent;\n",
              "      border-right-color: var(--fill-color);\n",
              "    }\n",
              "    80% {\n",
              "      border-color: transparent;\n",
              "      border-right-color: var(--fill-color);\n",
              "      border-bottom-color: var(--fill-color);\n",
              "    }\n",
              "    90% {\n",
              "      border-color: transparent;\n",
              "      border-bottom-color: var(--fill-color);\n",
              "    }\n",
              "  }\n",
              "</style>\n",
              "\n",
              "  <script>\n",
              "    async function quickchart(key) {\n",
              "      const quickchartButtonEl =\n",
              "        document.querySelector('#' + key + ' button');\n",
              "      quickchartButtonEl.disabled = true;  // To prevent multiple clicks.\n",
              "      quickchartButtonEl.classList.add('colab-df-spinner');\n",
              "      try {\n",
              "        const charts = await google.colab.kernel.invokeFunction(\n",
              "            'suggestCharts', [key], {});\n",
              "      } catch (error) {\n",
              "        console.error('Error during call to suggestCharts:', error);\n",
              "      }\n",
              "      quickchartButtonEl.classList.remove('colab-df-spinner');\n",
              "      quickchartButtonEl.classList.add('colab-df-quickchart-complete');\n",
              "    }\n",
              "    (() => {\n",
              "      let quickchartButtonEl =\n",
              "        document.querySelector('#df-755f2d1e-317d-4094-8d02-121ce5ed798a button');\n",
              "      quickchartButtonEl.style.display =\n",
              "        google.colab.kernel.accessAllowed ? 'block' : 'none';\n",
              "    })();\n",
              "  </script>\n",
              "</div>\n",
              "\n",
              "  <div id=\"id_ed4f8e47-da05-44b6-bdce-056c12aaa399\">\n",
              "    <style>\n",
              "      .colab-df-generate {\n",
              "        background-color: #E8F0FE;\n",
              "        border: none;\n",
              "        border-radius: 50%;\n",
              "        cursor: pointer;\n",
              "        display: none;\n",
              "        fill: #1967D2;\n",
              "        height: 32px;\n",
              "        padding: 0 0 0 0;\n",
              "        width: 32px;\n",
              "      }\n",
              "\n",
              "      .colab-df-generate:hover {\n",
              "        background-color: #E2EBFA;\n",
              "        box-shadow: 0px 1px 2px rgba(60, 64, 67, 0.3), 0px 1px 3px 1px rgba(60, 64, 67, 0.15);\n",
              "        fill: #174EA6;\n",
              "      }\n",
              "\n",
              "      [theme=dark] .colab-df-generate {\n",
              "        background-color: #3B4455;\n",
              "        fill: #D2E3FC;\n",
              "      }\n",
              "\n",
              "      [theme=dark] .colab-df-generate:hover {\n",
              "        background-color: #434B5C;\n",
              "        box-shadow: 0px 1px 3px 1px rgba(0, 0, 0, 0.15);\n",
              "        filter: drop-shadow(0px 1px 2px rgba(0, 0, 0, 0.3));\n",
              "        fill: #FFFFFF;\n",
              "      }\n",
              "    </style>\n",
              "    <button class=\"colab-df-generate\" onclick=\"generateWithVariable('df_stationary')\"\n",
              "            title=\"Generate code using this dataframe.\"\n",
              "            style=\"display:none;\">\n",
              "\n",
              "  <svg xmlns=\"http://www.w3.org/2000/svg\" height=\"24px\"viewBox=\"0 0 24 24\"\n",
              "       width=\"24px\">\n",
              "    <path d=\"M7,19H8.4L18.45,9,17,7.55,7,17.6ZM5,21V16.75L18.45,3.32a2,2,0,0,1,2.83,0l1.4,1.43a1.91,1.91,0,0,1,.58,1.4,1.91,1.91,0,0,1-.58,1.4L9.25,21ZM18.45,9,17,7.55Zm-12,3A5.31,5.31,0,0,0,4.9,8.1,5.31,5.31,0,0,0,1,6.5,5.31,5.31,0,0,0,4.9,4.9,5.31,5.31,0,0,0,6.5,1,5.31,5.31,0,0,0,8.1,4.9,5.31,5.31,0,0,0,12,6.5,5.46,5.46,0,0,0,6.5,12Z\"/>\n",
              "  </svg>\n",
              "    </button>\n",
              "    <script>\n",
              "      (() => {\n",
              "      const buttonEl =\n",
              "        document.querySelector('#id_ed4f8e47-da05-44b6-bdce-056c12aaa399 button.colab-df-generate');\n",
              "      buttonEl.style.display =\n",
              "        google.colab.kernel.accessAllowed ? 'block' : 'none';\n",
              "\n",
              "      buttonEl.onclick = () => {\n",
              "        google.colab.notebook.generateWithVariable('df_stationary');\n",
              "      }\n",
              "      })();\n",
              "    </script>\n",
              "  </div>\n",
              "\n",
              "    </div>\n",
              "  </div>\n"
            ],
            "text/plain": [
              "     Year Real GDP at market prices Unemployment rate Consumer price inflation\n",
              "0    1900                       NaN               NaN                      NaN\n",
              "1    1901               3814.264947          1.197486                -4.358273\n",
              "2    1902               2782.021143          0.268343                      0.3\n",
              "3    1903              -1740.782376          0.457813                  1.10331\n",
              "4    1904               2139.791108          1.311314                -1.500135\n",
              "..    ...                       ...               ...                      ...\n",
              "96   1996                     30911         -0.524736                -0.256144\n",
              "97   1997                     38893         -1.125038                -0.575702\n",
              "98   1998                     40925         -0.716547                -0.267209\n",
              "99   1999                     43456         -0.278654                -0.228687\n",
              "100  2000                     51193         -0.517764                -0.532254\n",
              "\n",
              "[101 rows x 4 columns]"
            ]
          },
          "execution_count": 161,
          "metadata": {},
          "output_type": "execute_result"
        }
      ],
      "source": [
        "df_stationary = df.copy()\n",
        "\n",
        "for column in df.columns[1:]:\n",
        "    df_stationary[column] = df[column].diff()\n",
        "\n",
        "df_stationary\n"
      ]
    },
    {
      "cell_type": "markdown",
      "metadata": {
        "id": "SUAOE8TgdFQp"
      },
      "source": [
        "---\n",
        "#### **31. Explain the difference between ACF and PACF.**"
      ]
    },
    {
      "cell_type": "markdown",
      "metadata": {
        "id": "C_gJPL9edW9W"
      },
      "source": [
        "ACF evaluates the correlation between a time series and its lagged values across different time lags, whereas PACF examines the correlation between a time series and its lagged values while accounting for the influence of other lags.\n",
        "\n",
        "While ACF gives a comprehensive view of the correlation pattern, encompassing both direct and indirect effects of all lags, PACF isolates the direct correlation between a specific observation and its lag, eliminating the impact of intervening lags.\n"
      ]
    },
    {
      "cell_type": "markdown",
      "metadata": {
        "id": "jqNmiMPPdk5K"
      },
      "source": [
        "---\n",
        "#### **32. Plot and comment on the ACF and PACF of all variables.**"
      ]
    },
    {
      "cell_type": "code",
      "execution_count": 162,
      "metadata": {
        "colab": {
          "base_uri": "https://localhost:8080/",
          "height": 1000
        },
        "id": "KVbeh3SlhSHj",
        "outputId": "6a173dbb-f163-48db-9637-4d3de2c3a763"
      },
      "outputs": [
        {
          "data": {
            "image/png": "[encoded data removed]",
            "text/plain": [
              "<Figure size 1000x400 with 2 Axes>"
            ]
          },
          "metadata": {},
          "output_type": "display_data"
        },
        {
          "data": {
            "image/png": "[encoded data removed]",
            "text/plain": [
              "<Figure size 1000x400 with 2 Axes>"
            ]
          },
          "metadata": {},
          "output_type": "display_data"
        },
        {
          "data": {
            "image/png": "[encoded data removed]",
            "text/plain": [
              "<Figure size 1000x400 with 2 Axes>"
            ]
          },
          "metadata": {},
          "output_type": "display_data"
        }
      ],
      "source": [
        "import matplotlib.pyplot as plt\n",
        "from statsmodels.graphics.tsaplots import plot_acf, plot_pacf\n",
        "\n",
        "df_transformed = df.copy()\n",
        "df_transformed['Real GDP at market prices'] = df['Real GDP at market prices'].diff().dropna()\n",
        "df_transformed['Unemployment rate'] = df['Unemployment rate'].diff().dropna()\n",
        "df_transformed['Consumer price inflation'] = df['Consumer price inflation'].diff().dropna()\n",
        "\n",
        "# Remove null values\n",
        "df_transformed.dropna(inplace=True)\n",
        "\n",
        "for variable in columns_to_transform:\n",
        "    variable_values = df_transformed[variable]\n",
        "\n",
        "    # Creating subplots with 1 row and 2 columns\n",
        "    fig, axs = plt.subplots(1, 2, figsize=(10, 4))\n",
        "\n",
        "    # ACF plot on the left subplot\n",
        "    plot_acf(variable_values, ax=axs[0], lags=10)\n",
        "    axs[0].set_title(f'ACF of {variable}')\n",
        "    axs[0].set_xlabel('lag')\n",
        "\n",
        "    # PACF plot on the right subplot\n",
        "    plot_pacf(variable_values, ax=axs[1], lags=10)\n",
        "    axs[1].set_title(f'PACF of {variable}')\n",
        "    axs[1].set_xlabel('lag')\n"
      ]
    },
    {
      "cell_type": "markdown",
      "metadata": {
        "id": "UnEdFIICjn0k"
      },
      "source": [
        "---\n",
        "#### **33. Explain the principle of parsimony and its relationship with Ockham’s razor using the theory of information criterion.**"
      ]
    },
    {
      "cell_type": "markdown",
      "metadata": {
        "id": "Ez8j7XhhjqjU"
      },
      "source": [
        "The concept of parsimony, closely associated with Ockham's razor, highlights the preference for simpler explanations or models. In the framework of information criteria such as the Akaike Information Criterion (AIC) and Bayesian Information Criterion (BIC), which aim to balance model accuracy and complexity, parsimony is represented by discouraging excessively intricate models. This approach promotes choosing models that adequately describe the data while maintaining the necessary simplicity, adhering to Ockham's razor's principle of favoring straightforward explanations."
      ]
    },
    {
      "cell_type": "markdown",
      "metadata": {
        "id": "O-qpAO2YkVQ8"
      },
      "source": [
        "---\n",
        "#### **34. Explain the problem of auto-correlation of the errors.**"
      ]
    },
    {
      "cell_type": "markdown",
      "metadata": {
        "id": "ezlDObyakgwe"
      },
      "source": [
        "Error autocorrelation occurs when the residuals in a regression model exhibit correlation with each other. This means that the errors in one period are affected by errors from prior periods, thereby violating the assumption of independent errors. Autocorrelation introduces challenges for ordinary least squares (OLS) estimation: although the regression coefficients remain unbiased, they no longer have minimum variance. Furthermore, the Mean Squared Error (MSE) may considerably underestimate the actual variance of the errors, and the standard errors of the regression coefficients may severely understate their true standard deviations. As a result, traditional confidence intervals and inference methods become invalid."
      ]
    },
    {
      "cell_type": "markdown",
      "metadata": {
        "id": "ETOnxJ1Imgr6"
      },
      "source": [
        "---\n",
        "#### **35. Using only stationary variables, run a regression of GDP on constant, unemployment and inflation and test the hypothesis of no-autocorrelation of errors.**"
      ]
    },
    {
      "cell_type": "code",
      "execution_count": 163,
      "metadata": {
        "colab": {
          "base_uri": "https://localhost:8080/"
        },
        "id": "sj_pt9s6mrRU",
        "outputId": "8ce1ef5d-1851-4939-ce2f-dc977dae4a9c"
      },
      "outputs": [
        {
          "name": "stdout",
          "output_type": "stream",
          "text": [
            "Durbin-Watson test statistic: 0.805\n"
          ]
        }
      ],
      "source": [
        "import statsmodels.api as sm\n",
        "\n",
        "# Create the independent variables matrix\n",
        "X = df_stationary[['Unemployment rate', 'Consumer price inflation']].dropna()\n",
        "\n",
        "for column in X.columns:\n",
        "    X[column] = pd.to_numeric(X[column], errors='coerce')\n",
        "\n",
        "X = sm.add_constant(X)\n",
        "\n",
        "# Define the dependent variable\n",
        "Y = df_stationary['Real GDP at market prices'].dropna()\n",
        "Y = pd.to_numeric(Y, errors='coerce')\n",
        "\n",
        "# Fit the regression model\n",
        "results = sm.OLS(Y, X).fit()\n",
        "\n",
        "# Test the hypothesis of no-autocorrelation of errors\n",
        "print(f'Durbin-Watson test statistic: {sm.stats.stattools.durbin_watson(results.resid):.3f}')"
      ]
    },
    {
      "cell_type": "markdown",
      "metadata": {
        "id": "UTz3P1dkuD0Q"
      },
      "source": [
        "---\n",
        "#### **36. Regardless of your answer to question 35, correct auto-correlation with GLS. Test again for the presence of auto-correlation. Comment on your results.**"
      ]
    },
    {
      "cell_type": "code",
      "execution_count": 164,
      "metadata": {
        "colab": {
          "base_uri": "https://localhost:8080/"
        },
        "id": "Ck9LXv-jwN0X",
        "outputId": "ab88016c-2234-412c-ca6d-4c06d24a6b3e"
      },
      "outputs": [
        {
          "name": "stdout",
          "output_type": "stream",
          "text": [
            "GLS Model Results:\n",
            "                                GLS Regression Results                               \n",
            "=====================================================================================\n",
            "Dep. Variable:     Real GDP at market prices   R-squared:                       0.244\n",
            "Model:                                   GLS   Adj. R-squared:                  0.229\n",
            "Method:                        Least Squares   F-statistic:                     15.69\n",
            "Date:                       Sun, 08 Dec 2024   Prob (F-statistic):           1.25e-06\n",
            "Time:                               17:34:26   Log-Likelihood:                -1101.1\n",
            "No. Observations:                        100   AIC:                             2208.\n",
            "Df Residuals:                             97   BIC:                             2216.\n",
            "Df Model:                                  2                                         \n",
            "Covariance Type:                   nonrobust                                         \n",
            "============================================================================================\n",
            "                               coef    std err          t      P>|t|      [0.025      0.975]\n",
            "--------------------------------------------------------------------------------------------\n",
            "const                     1.245e+04   1486.913      8.374      0.000    9500.439    1.54e+04\n",
            "Unemployment rate        -6588.1953   1181.865     -5.574      0.000   -8933.870   -4242.520\n",
            "Consumer price inflation -1098.2542    414.643     -2.649      0.009   -1921.206    -275.303\n",
            "==============================================================================\n",
            "Omnibus:                        3.897   Durbin-Watson:                   0.805\n",
            "Prob(Omnibus):                  0.142   Jarque-Bera (JB):                3.825\n",
            "Skew:                           0.474   Prob(JB):                        0.148\n",
            "Kurtosis:                       2.855   Cond. No.                         4.41\n",
            "==============================================================================\n",
            "\n",
            "Notes:\n",
            "[1] Standard Errors assume that the covariance matrix of the errors is correctly specified.\n",
            "\n",
            "Durbin-Watson test statistic: 0.805\n",
            "Durbin-Watson statistic indicates the presence of autocorrelation.\n"
          ]
        }
      ],
      "source": [
        "import statsmodels.api as sm\n",
        "from statsmodels.stats.stattools import durbin_watson\n",
        "\n",
        "X = df_stationary[['Unemployment rate', 'Consumer price inflation']].dropna()\n",
        "\n",
        "for column in X.columns:\n",
        "    X[column] = pd.to_numeric(X[column], errors='coerce')\n",
        "\n",
        "X = sm.add_constant(X)\n",
        "\n",
        "Y = df_stationary['Real GDP at market prices'].dropna()\n",
        "Y = pd.to_numeric(Y, errors='coerce')\n",
        "\n",
        "gls_model = sm.GLS(Y, X).fit()\n",
        "\n",
        "dw_stat = durbin_watson(gls_model.resid)\n",
        "\n",
        "print(\"GLS Model Results:\")\n",
        "print(gls_model.summary())\n",
        "print(f\"\\nDurbin-Watson test statistic: {dw_stat:.3f}\")\n",
        "\n",
        "if dw_stat < 1.5 or dw_stat > 2.5:\n",
        "    print(\"Durbin-Watson statistic indicates the presence of autocorrelation.\")\n",
        "else:\n",
        "    print(\"Durbin-Watson statistic does not indicate significant autocorrelation.\")\n"
      ]
    },
    {
      "cell_type": "markdown",
      "metadata": {
        "id": "38JW9fP4uf8Y"
      },
      "source": [
        "---\n",
        "#### **37. For all variables, construct their lag 1 and lag 2 variables.**"
      ]
    },
    {
      "cell_type": "code",
      "execution_count": 165,
      "metadata": {
        "colab": {
          "base_uri": "https://localhost:8080/",
          "height": 527
        },
        "id": "WeDugPeLv5Kj",
        "outputId": "976bf60f-5644-470c-a383-1f4a0cc8fef1"
      },
      "outputs": [
        {
          "name": "stdout",
          "output_type": "stream",
          "text": [
            "Index(['Real GDP at market prices', 'Unemployment rate',\n",
            "       'Consumer price inflation'],\n",
            "      dtype='object')\n"
          ]
        },
        {
          "data": {
            "application/vnd.google.colaboratory.intrinsic+json": {
              "summary": "{\n  \"name\": \"df\",\n  \"rows\": 101,\n  \"fields\": [\n    {\n      \"column\": \"Year\",\n      \"properties\": {\n        \"dtype\": \"date\",\n        \"min\": 1900,\n        \"max\": 2000,\n        \"num_unique_values\": 101,\n        \"samples\": [\n          1984,\n          1955,\n          1966\n        ],\n        \"semantic_type\": \"\",\n        \"description\": \"\"\n      }\n    },\n    {\n      \"column\": \"Real GDP at market prices\",\n      \"properties\": {\n        \"dtype\": \"date\",\n        \"min\": 181160.2644362752,\n        \"max\": 1418176,\n        \"num_unique_values\": 101,\n        \"samples\": [\n          904639,\n          433302,\n          599211\n        ],\n        \"semantic_type\": \"\",\n        \"description\": \"\"\n      }\n    },\n    {\n      \"column\": \"Unemployment rate\",\n      \"properties\": {\n        \"dtype\": \"date\",\n        \"min\": 0.28345684676602223,\n        \"max\": 15.38729838999768,\n        \"num_unique_values\": 101,\n        \"samples\": [\n          11.774322458766257,\n          1.077974916058572,\n          1.51988631579973\n        ],\n        \"semantic_type\": \"\",\n        \"description\": \"\"\n      }\n    },\n    {\n      \"column\": \"Consumer price inflation\",\n      \"properties\": {\n        \"dtype\": \"date\",\n        \"min\": -14,\n        \"max\": 25.19999999999999,\n        \"num_unique_values\": 98,\n        \"samples\": [\n          4.257167680278016,\n          7.09999999999998,\n          1.824606271085031\n        ],\n        \"semantic_type\": \"\",\n        \"description\": \"\"\n      }\n    },\n    {\n      \"column\": \"Real GDP at market prices lag 1\",\n      \"properties\": {\n        \"dtype\": \"date\",\n        \"min\": 181160.2644362752,\n        \"max\": 1366983,\n        \"num_unique_values\": 100,\n        \"samples\": [\n          884520,\n          400153,\n          679900\n        ],\n        \"semantic_type\": \"\",\n        \"description\": \"\"\n      }\n    },\n    {\n      \"column\": \"Real GDP at market prices lag 2\",\n      \"properties\": {\n        \"dtype\": \"date\",\n        \"min\": 181160.2644362752,\n        \"max\": 1323527,\n        \"num_unique_values\": 99,\n        \"samples\": [\n          521906,\n          330051.531934878,\n          1212798\n        ],\n        \"semantic_type\": \"\",\n        \"description\": \"\"\n      }\n    },\n    {\n      \"column\": \"Unemployment rate lag 1\",\n      \"properties\": {\n        \"dtype\": \"date\",\n        \"min\": 0.28345684676602223,\n        \"max\": 15.38729838999768,\n        \"num_unique_values\": 100,\n        \"samples\": [\n          11.472296693476318,\n          1.5795240720307944,\n          2.438373190756942\n        ],\n        \"semantic_type\": \"\",\n        \"description\": \"\"\n      }\n    },\n    {\n      \"column\": \"Unemployment rate lag 2\",\n      \"properties\": {\n        \"dtype\": \"date\",\n        \"min\": 0.28345684676602223,\n        \"max\": 15.38729838999768,\n        \"num_unique_values\": 99,\n        \"samples\": [\n          1.9911737445683184,\n          2.9907370047620434,\n          8.621788065406667\n        ],\n        \"semantic_type\": \"\",\n        \"description\": \"\"\n      }\n    },\n    {\n      \"column\": \"Consumer price inflation lag 1\",\n      \"properties\": {\n        \"dtype\": \"date\",\n        \"min\": -14,\n        \"max\": 25.19999999999999,\n        \"num_unique_values\": 97,\n        \"samples\": [\n          4.257167680278016,\n          7.09999999999998,\n          2.4003084273058306\n        ],\n        \"semantic_type\": \"\",\n        \"description\": \"\"\n      }\n    },\n    {\n      \"column\": \"Consumer price inflation lag 2\",\n      \"properties\": {\n        \"dtype\": \"date\",\n        \"min\": -14,\n        \"max\": 25.19999999999999,\n        \"num_unique_values\": 96,\n        \"samples\": [\n          4.93497832610872,\n          15.154328150382923,\n          15.657311669128532\n        ],\n        \"semantic_type\": \"\",\n        \"description\": \"\"\n      }\n    }\n  ]\n}",
              "type": "dataframe",
              "variable_name": "df"
            },
            "text/html": [
              "\n",
              "  <div id=\"df-cff717aa-d2dd-486b-97b1-fef70e79ac95\" class=\"colab-df-container\">\n",
              "    <div>\n",
              "<style scoped>\n",
              "    .dataframe tbody tr th:only-of-type {\n",
              "        vertical-align: middle;\n",
              "    }\n",
              "\n",
              "    .dataframe tbody tr th {\n",
              "        vertical-align: top;\n",
              "    }\n",
              "\n",
              "    .dataframe thead th {\n",
              "        text-align: right;\n",
              "    }\n",
              "</style>\n",
              "<table border=\"1\" class=\"dataframe\">\n",
              "  <thead>\n",
              "    <tr style=\"text-align: right;\">\n",
              "      <th></th>\n",
              "      <th>Year</th>\n",
              "      <th>Real GDP at market prices</th>\n",
              "      <th>Unemployment rate</th>\n",
              "      <th>Consumer price inflation</th>\n",
              "      <th>Real GDP at market prices lag 1</th>\n",
              "      <th>Real GDP at market prices lag 2</th>\n",
              "      <th>Unemployment rate lag 1</th>\n",
              "      <th>Unemployment rate lag 2</th>\n",
              "      <th>Consumer price inflation lag 1</th>\n",
              "      <th>Consumer price inflation lag 2</th>\n",
              "    </tr>\n",
              "  </thead>\n",
              "  <tbody>\n",
              "    <tr>\n",
              "      <th>0</th>\n",
              "      <td>1900</td>\n",
              "      <td>181160.264436</td>\n",
              "      <td>3.679865</td>\n",
              "      <td>4.058273</td>\n",
              "      <td>None</td>\n",
              "      <td>None</td>\n",
              "      <td>None</td>\n",
              "      <td>None</td>\n",
              "      <td>None</td>\n",
              "      <td>None</td>\n",
              "    </tr>\n",
              "    <tr>\n",
              "      <th>1</th>\n",
              "      <td>1901</td>\n",
              "      <td>184974.529384</td>\n",
              "      <td>4.877351</td>\n",
              "      <td>-0.3</td>\n",
              "      <td>181160.264436</td>\n",
              "      <td>None</td>\n",
              "      <td>3.679865</td>\n",
              "      <td>None</td>\n",
              "      <td>4.058273</td>\n",
              "      <td>None</td>\n",
              "    </tr>\n",
              "    <tr>\n",
              "      <th>2</th>\n",
              "      <td>1902</td>\n",
              "      <td>187756.550527</td>\n",
              "      <td>5.145694</td>\n",
              "      <td>0</td>\n",
              "      <td>184974.529384</td>\n",
              "      <td>181160.264436</td>\n",
              "      <td>4.877351</td>\n",
              "      <td>3.679865</td>\n",
              "      <td>-0.3</td>\n",
              "      <td>4.058273</td>\n",
              "    </tr>\n",
              "    <tr>\n",
              "      <th>3</th>\n",
              "      <td>1903</td>\n",
              "      <td>186015.76815</td>\n",
              "      <td>5.603507</td>\n",
              "      <td>1.10331</td>\n",
              "      <td>187756.550527</td>\n",
              "      <td>184974.529384</td>\n",
              "      <td>5.145694</td>\n",
              "      <td>4.877351</td>\n",
              "      <td>0</td>\n",
              "      <td>-0.3</td>\n",
              "    </tr>\n",
              "    <tr>\n",
              "      <th>4</th>\n",
              "      <td>1904</td>\n",
              "      <td>188155.559259</td>\n",
              "      <td>6.914821</td>\n",
              "      <td>-0.396825</td>\n",
              "      <td>186015.76815</td>\n",
              "      <td>187756.550527</td>\n",
              "      <td>5.603507</td>\n",
              "      <td>5.145694</td>\n",
              "      <td>1.10331</td>\n",
              "      <td>0</td>\n",
              "    </tr>\n",
              "    <tr>\n",
              "      <th>...</th>\n",
              "      <td>...</td>\n",
              "      <td>...</td>\n",
              "      <td>...</td>\n",
              "      <td>...</td>\n",
              "      <td>...</td>\n",
              "      <td>...</td>\n",
              "      <td>...</td>\n",
              "      <td>...</td>\n",
              "      <td>...</td>\n",
              "      <td>...</td>\n",
              "    </tr>\n",
              "    <tr>\n",
              "      <th>96</th>\n",
              "      <td>1996</td>\n",
              "      <td>1243709</td>\n",
              "      <td>8.097052</td>\n",
              "      <td>2.400308</td>\n",
              "      <td>1212798</td>\n",
              "      <td>1183144</td>\n",
              "      <td>8.621788</td>\n",
              "      <td>9.496097</td>\n",
              "      <td>2.656452</td>\n",
              "      <td>1.97849</td>\n",
              "    </tr>\n",
              "    <tr>\n",
              "      <th>97</th>\n",
              "      <td>1997</td>\n",
              "      <td>1282602</td>\n",
              "      <td>6.972014</td>\n",
              "      <td>1.824606</td>\n",
              "      <td>1243709</td>\n",
              "      <td>1212798</td>\n",
              "      <td>8.097052</td>\n",
              "      <td>8.621788</td>\n",
              "      <td>2.400308</td>\n",
              "      <td>2.656452</td>\n",
              "    </tr>\n",
              "    <tr>\n",
              "      <th>98</th>\n",
              "      <td>1998</td>\n",
              "      <td>1323527</td>\n",
              "      <td>6.255467</td>\n",
              "      <td>1.557398</td>\n",
              "      <td>1282602</td>\n",
              "      <td>1243709</td>\n",
              "      <td>6.972014</td>\n",
              "      <td>8.097052</td>\n",
              "      <td>1.824606</td>\n",
              "      <td>2.400308</td>\n",
              "    </tr>\n",
              "    <tr>\n",
              "      <th>99</th>\n",
              "      <td>1999</td>\n",
              "      <td>1366983</td>\n",
              "      <td>5.976813</td>\n",
              "      <td>1.32871</td>\n",
              "      <td>1323527</td>\n",
              "      <td>1282602</td>\n",
              "      <td>6.255467</td>\n",
              "      <td>6.972014</td>\n",
              "      <td>1.557398</td>\n",
              "      <td>1.824606</td>\n",
              "    </tr>\n",
              "    <tr>\n",
              "      <th>100</th>\n",
              "      <td>2000</td>\n",
              "      <td>1418176</td>\n",
              "      <td>5.459049</td>\n",
              "      <td>0.796456</td>\n",
              "      <td>1366983</td>\n",
              "      <td>1323527</td>\n",
              "      <td>5.976813</td>\n",
              "      <td>6.255467</td>\n",
              "      <td>1.32871</td>\n",
              "      <td>1.557398</td>\n",
              "    </tr>\n",
              "  </tbody>\n",
              "</table>\n",
              "<p>101 rows × 10 columns</p>\n",
              "</div>\n",
              "    <div class=\"colab-df-buttons\">\n",
              "\n",
              "  <div class=\"colab-df-container\">\n",
              "    <button class=\"colab-df-convert\" onclick=\"convertToInteractive('df-cff717aa-d2dd-486b-97b1-fef70e79ac95')\"\n",
              "            title=\"Convert this dataframe to an interactive table.\"\n",
              "            style=\"display:none;\">\n",
              "\n",
              "  <svg xmlns=\"http://www.w3.org/2000/svg\" height=\"24px\" viewBox=\"0 -960 960 960\">\n",
              "    <path d=\"M120-120v-720h720v720H120Zm60-500h600v-160H180v160Zm220 220h160v-160H400v160Zm0 220h160v-160H400v160ZM180-400h160v-160H180v160Zm440 0h160v-160H620v160ZM180-180h160v-160H180v160Zm440 0h160v-160H620v160Z\"/>\n",
              "  </svg>\n",
              "    </button>\n",
              "\n",
              "  <style>\n",
              "    .colab-df-container {\n",
              "      display:flex;\n",
              "      gap: 12px;\n",
              "    }\n",
              "\n",
              "    .colab-df-convert {\n",
              "      background-color: #E8F0FE;\n",
              "      border: none;\n",
              "      border-radius: 50%;\n",
              "      cursor: pointer;\n",
              "      display: none;\n",
              "      fill: #1967D2;\n",
              "      height: 32px;\n",
              "      padding: 0 0 0 0;\n",
              "      width: 32px;\n",
              "    }\n",
              "\n",
              "    .colab-df-convert:hover {\n",
              "      background-color: #E2EBFA;\n",
              "      box-shadow: 0px 1px 2px rgba(60, 64, 67, 0.3), 0px 1px 3px 1px rgba(60, 64, 67, 0.15);\n",
              "      fill: #174EA6;\n",
              "    }\n",
              "\n",
              "    .colab-df-buttons div {\n",
              "      margin-bottom: 4px;\n",
              "    }\n",
              "\n",
              "    [theme=dark] .colab-df-convert {\n",
              "      background-color: #3B4455;\n",
              "      fill: #D2E3FC;\n",
              "    }\n",
              "\n",
              "    [theme=dark] .colab-df-convert:hover {\n",
              "      background-color: #434B5C;\n",
              "      box-shadow: 0px 1px 3px 1px rgba(0, 0, 0, 0.15);\n",
              "      filter: drop-shadow(0px 1px 2px rgba(0, 0, 0, 0.3));\n",
              "      fill: #FFFFFF;\n",
              "    }\n",
              "  </style>\n",
              "\n",
              "    <script>\n",
              "      const buttonEl =\n",
              "        document.querySelector('#df-cff717aa-d2dd-486b-97b1-fef70e79ac95 button.colab-df-convert');\n",
              "      buttonEl.style.display =\n",
              "        google.colab.kernel.accessAllowed ? 'block' : 'none';\n",
              "\n",
              "      async function convertToInteractive(key) {\n",
              "        const element = document.querySelector('#df-cff717aa-d2dd-486b-97b1-fef70e79ac95');\n",
              "        const dataTable =\n",
              "          await google.colab.kernel.invokeFunction('convertToInteractive',\n",
              "                                                    [key], {});\n",
              "        if (!dataTable) return;\n",
              "\n",
              "        const docLinkHtml = 'Like what you see? Visit the ' +\n",
              "          '<a target=\"_blank\" href=https://colab.research.google.com/notebooks/data_table.ipynb>data table notebook</a>'\n",
              "          + ' to learn more about interactive tables.';\n",
              "        element.innerHTML = '';\n",
              "        dataTable['output_type'] = 'display_data';\n",
              "        await google.colab.output.renderOutput(dataTable, element);\n",
              "        const docLink = document.createElement('div');\n",
              "        docLink.innerHTML = docLinkHtml;\n",
              "        element.appendChild(docLink);\n",
              "      }\n",
              "    </script>\n",
              "  </div>\n",
              "\n",
              "\n",
              "<div id=\"df-2fd174a2-6c6a-48d8-ac0c-b8eed31f459d\">\n",
              "  <button class=\"colab-df-quickchart\" onclick=\"quickchart('df-2fd174a2-6c6a-48d8-ac0c-b8eed31f459d')\"\n",
              "            title=\"Suggest charts\"\n",
              "            style=\"display:none;\">\n",
              "\n",
              "<svg xmlns=\"http://www.w3.org/2000/svg\" height=\"24px\"viewBox=\"0 0 24 24\"\n",
              "     width=\"24px\">\n",
              "    <g>\n",
              "        <path d=\"M19 3H5c-1.1 0-2 .9-2 2v14c0 1.1.9 2 2 2h14c1.1 0 2-.9 2-2V5c0-1.1-.9-2-2-2zM9 17H7v-7h2v7zm4 0h-2V7h2v10zm4 0h-2v-4h2v4z\"/>\n",
              "    </g>\n",
              "</svg>\n",
              "  </button>\n",
              "\n",
              "<style>\n",
              "  .colab-df-quickchart {\n",
              "      --bg-color: #E8F0FE;\n",
              "      --fill-color: #1967D2;\n",
              "      --hover-bg-color: #E2EBFA;\n",
              "      --hover-fill-color: #174EA6;\n",
              "      --disabled-fill-color: #AAA;\n",
              "      --disabled-bg-color: #DDD;\n",
              "  }\n",
              "\n",
              "  [theme=dark] .colab-df-quickchart {\n",
              "      --bg-color: #3B4455;\n",
              "      --fill-color: #D2E3FC;\n",
              "      --hover-bg-color: #434B5C;\n",
              "      --hover-fill-color: #FFFFFF;\n",
              "      --disabled-bg-color: #3B4455;\n",
              "      --disabled-fill-color: #666;\n",
              "  }\n",
              "\n",
              "  .colab-df-quickchart {\n",
              "    background-color: var(--bg-color);\n",
              "    border: none;\n",
              "    border-radius: 50%;\n",
              "    cursor: pointer;\n",
              "    display: none;\n",
              "    fill: var(--fill-color);\n",
              "    height: 32px;\n",
              "    padding: 0;\n",
              "    width: 32px;\n",
              "  }\n",
              "\n",
              "  .colab-df-quickchart:hover {\n",
              "    background-color: var(--hover-bg-color);\n",
              "    box-shadow: 0 1px 2px rgba(60, 64, 67, 0.3), 0 1px 3px 1px rgba(60, 64, 67, 0.15);\n",
              "    fill: var(--button-hover-fill-color);\n",
              "  }\n",
              "\n",
              "  .colab-df-quickchart-complete:disabled,\n",
              "  .colab-df-quickchart-complete:disabled:hover {\n",
              "    background-color: var(--disabled-bg-color);\n",
              "    fill: var(--disabled-fill-color);\n",
              "    box-shadow: none;\n",
              "  }\n",
              "\n",
              "  .colab-df-spinner {\n",
              "    border: 2px solid var(--fill-color);\n",
              "    border-color: transparent;\n",
              "    border-bottom-color: var(--fill-color);\n",
              "    animation:\n",
              "      spin 1s steps(1) infinite;\n",
              "  }\n",
              "\n",
              "  @keyframes spin {\n",
              "    0% {\n",
              "      border-color: transparent;\n",
              "      border-bottom-color: var(--fill-color);\n",
              "      border-left-color: var(--fill-color);\n",
              "    }\n",
              "    20% {\n",
              "      border-color: transparent;\n",
              "      border-left-color: var(--fill-color);\n",
              "      border-top-color: var(--fill-color);\n",
              "    }\n",
              "    30% {\n",
              "      border-color: transparent;\n",
              "      border-left-color: var(--fill-color);\n",
              "      border-top-color: var(--fill-color);\n",
              "      border-right-color: var(--fill-color);\n",
              "    }\n",
              "    40% {\n",
              "      border-color: transparent;\n",
              "      border-right-color: var(--fill-color);\n",
              "      border-top-color: var(--fill-color);\n",
              "    }\n",
              "    60% {\n",
              "      border-color: transparent;\n",
              "      border-right-color: var(--fill-color);\n",
              "    }\n",
              "    80% {\n",
              "      border-color: transparent;\n",
              "      border-right-color: var(--fill-color);\n",
              "      border-bottom-color: var(--fill-color);\n",
              "    }\n",
              "    90% {\n",
              "      border-color: transparent;\n",
              "      border-bottom-color: var(--fill-color);\n",
              "    }\n",
              "  }\n",
              "</style>\n",
              "\n",
              "  <script>\n",
              "    async function quickchart(key) {\n",
              "      const quickchartButtonEl =\n",
              "        document.querySelector('#' + key + ' button');\n",
              "      quickchartButtonEl.disabled = true;  // To prevent multiple clicks.\n",
              "      quickchartButtonEl.classList.add('colab-df-spinner');\n",
              "      try {\n",
              "        const charts = await google.colab.kernel.invokeFunction(\n",
              "            'suggestCharts', [key], {});\n",
              "      } catch (error) {\n",
              "        console.error('Error during call to suggestCharts:', error);\n",
              "      }\n",
              "      quickchartButtonEl.classList.remove('colab-df-spinner');\n",
              "      quickchartButtonEl.classList.add('colab-df-quickchart-complete');\n",
              "    }\n",
              "    (() => {\n",
              "      let quickchartButtonEl =\n",
              "        document.querySelector('#df-2fd174a2-6c6a-48d8-ac0c-b8eed31f459d button');\n",
              "      quickchartButtonEl.style.display =\n",
              "        google.colab.kernel.accessAllowed ? 'block' : 'none';\n",
              "    })();\n",
              "  </script>\n",
              "</div>\n",
              "\n",
              "  <div id=\"id_dd4cb51c-36b0-4bb7-8387-ab0f21c73fed\">\n",
              "    <style>\n",
              "      .colab-df-generate {\n",
              "        background-color: #E8F0FE;\n",
              "        border: none;\n",
              "        border-radius: 50%;\n",
              "        cursor: pointer;\n",
              "        display: none;\n",
              "        fill: #1967D2;\n",
              "        height: 32px;\n",
              "        padding: 0 0 0 0;\n",
              "        width: 32px;\n",
              "      }\n",
              "\n",
              "      .colab-df-generate:hover {\n",
              "        background-color: #E2EBFA;\n",
              "        box-shadow: 0px 1px 2px rgba(60, 64, 67, 0.3), 0px 1px 3px 1px rgba(60, 64, 67, 0.15);\n",
              "        fill: #174EA6;\n",
              "      }\n",
              "\n",
              "      [theme=dark] .colab-df-generate {\n",
              "        background-color: #3B4455;\n",
              "        fill: #D2E3FC;\n",
              "      }\n",
              "\n",
              "      [theme=dark] .colab-df-generate:hover {\n",
              "        background-color: #434B5C;\n",
              "        box-shadow: 0px 1px 3px 1px rgba(0, 0, 0, 0.15);\n",
              "        filter: drop-shadow(0px 1px 2px rgba(0, 0, 0, 0.3));\n",
              "        fill: #FFFFFF;\n",
              "      }\n",
              "    </style>\n",
              "    <button class=\"colab-df-generate\" onclick=\"generateWithVariable('df')\"\n",
              "            title=\"Generate code using this dataframe.\"\n",
              "            style=\"display:none;\">\n",
              "\n",
              "  <svg xmlns=\"http://www.w3.org/2000/svg\" height=\"24px\"viewBox=\"0 0 24 24\"\n",
              "       width=\"24px\">\n",
              "    <path d=\"M7,19H8.4L18.45,9,17,7.55,7,17.6ZM5,21V16.75L18.45,3.32a2,2,0,0,1,2.83,0l1.4,1.43a1.91,1.91,0,0,1,.58,1.4,1.91,1.91,0,0,1-.58,1.4L9.25,21ZM18.45,9,17,7.55Zm-12,3A5.31,5.31,0,0,0,4.9,8.1,5.31,5.31,0,0,0,1,6.5,5.31,5.31,0,0,0,4.9,4.9,5.31,5.31,0,0,0,6.5,1,5.31,5.31,0,0,0,8.1,4.9,5.31,5.31,0,0,0,12,6.5,5.46,5.46,0,0,0,6.5,12Z\"/>\n",
              "  </svg>\n",
              "    </button>\n",
              "    <script>\n",
              "      (() => {\n",
              "      const buttonEl =\n",
              "        document.querySelector('#id_dd4cb51c-36b0-4bb7-8387-ab0f21c73fed button.colab-df-generate');\n",
              "      buttonEl.style.display =\n",
              "        google.colab.kernel.accessAllowed ? 'block' : 'none';\n",
              "\n",
              "      buttonEl.onclick = () => {\n",
              "        google.colab.notebook.generateWithVariable('df');\n",
              "      }\n",
              "      })();\n",
              "    </script>\n",
              "  </div>\n",
              "\n",
              "    </div>\n",
              "  </div>\n"
            ],
            "text/plain": [
              "     Year Real GDP at market prices Unemployment rate  \\\n",
              "0    1900             181160.264436          3.679865   \n",
              "1    1901             184974.529384          4.877351   \n",
              "2    1902             187756.550527          5.145694   \n",
              "3    1903              186015.76815          5.603507   \n",
              "4    1904             188155.559259          6.914821   \n",
              "..    ...                       ...               ...   \n",
              "96   1996                   1243709          8.097052   \n",
              "97   1997                   1282602          6.972014   \n",
              "98   1998                   1323527          6.255467   \n",
              "99   1999                   1366983          5.976813   \n",
              "100  2000                   1418176          5.459049   \n",
              "\n",
              "    Consumer price inflation Real GDP at market prices lag 1  \\\n",
              "0                   4.058273                            None   \n",
              "1                       -0.3                   181160.264436   \n",
              "2                          0                   184974.529384   \n",
              "3                    1.10331                   187756.550527   \n",
              "4                  -0.396825                    186015.76815   \n",
              "..                       ...                             ...   \n",
              "96                  2.400308                         1212798   \n",
              "97                  1.824606                         1243709   \n",
              "98                  1.557398                         1282602   \n",
              "99                   1.32871                         1323527   \n",
              "100                 0.796456                         1366983   \n",
              "\n",
              "    Real GDP at market prices lag 2 Unemployment rate lag 1  \\\n",
              "0                              None                    None   \n",
              "1                              None                3.679865   \n",
              "2                     181160.264436                4.877351   \n",
              "3                     184974.529384                5.145694   \n",
              "4                     187756.550527                5.603507   \n",
              "..                              ...                     ...   \n",
              "96                          1183144                8.621788   \n",
              "97                          1212798                8.097052   \n",
              "98                          1243709                6.972014   \n",
              "99                          1282602                6.255467   \n",
              "100                         1323527                5.976813   \n",
              "\n",
              "    Unemployment rate lag 2 Consumer price inflation lag 1  \\\n",
              "0                      None                           None   \n",
              "1                      None                       4.058273   \n",
              "2                  3.679865                           -0.3   \n",
              "3                  4.877351                              0   \n",
              "4                  5.145694                        1.10331   \n",
              "..                      ...                            ...   \n",
              "96                 9.496097                       2.656452   \n",
              "97                 8.621788                       2.400308   \n",
              "98                 8.097052                       1.824606   \n",
              "99                 6.972014                       1.557398   \n",
              "100                6.255467                        1.32871   \n",
              "\n",
              "    Consumer price inflation lag 2  \n",
              "0                             None  \n",
              "1                             None  \n",
              "2                         4.058273  \n",
              "3                             -0.3  \n",
              "4                                0  \n",
              "..                             ...  \n",
              "96                         1.97849  \n",
              "97                        2.656452  \n",
              "98                        2.400308  \n",
              "99                        1.824606  \n",
              "100                       1.557398  \n",
              "\n",
              "[101 rows x 10 columns]"
            ]
          },
          "execution_count": 165,
          "metadata": {},
          "output_type": "execute_result"
        }
      ],
      "source": [
        "variables = df.columns[1:]\n",
        "print(variables)\n",
        "\n",
        "df_lag = df\n",
        "\n",
        "# For each variable, create two new columns with the lagged values\n",
        "for variable in variables:\n",
        "    df_lag[f\"{variable} lag 1\"] = df[variable].shift(1)\n",
        "    df_lag[f\"{variable} lag 2\"] = df[variable].shift(2)\n",
        "\n",
        "df_lag"
      ]
    },
    {
      "cell_type": "markdown",
      "metadata": {
        "id": "XpIXAHhEiXF_"
      },
      "source": [
        "---\n",
        "#### **38. Run a regression of GDP on constant, lag 1 unemployment, lag 2 unemployment, lag 1 inflation, lag 2 inflation. What is the number of observations and why?**"
      ]
    },
    {
      "cell_type": "code",
      "execution_count": 166,
      "metadata": {
        "colab": {
          "base_uri": "https://localhost:8080/"
        },
        "id": "V_YXtLjwjbc4",
        "outputId": "13ac4d23-2a9f-456c-b075-2c2698ff8ca5"
      },
      "outputs": [
        {
          "name": "stdout",
          "output_type": "stream",
          "text": [
            "                                OLS Regression Results                               \n",
            "=====================================================================================\n",
            "Dep. Variable:     Real GDP at market prices   R-squared:                       0.184\n",
            "Model:                                   OLS   Adj. R-squared:                  0.149\n",
            "Method:                        Least Squares   F-statistic:                     5.302\n",
            "Date:                       Sun, 08 Dec 2024   Prob (F-statistic):           0.000679\n",
            "Time:                               17:34:27   Log-Likelihood:                -1393.3\n",
            "No. Observations:                         99   AIC:                             2797.\n",
            "Df Residuals:                             94   BIC:                             2810.\n",
            "Df Model:                                  4                                         \n",
            "Covariance Type:                   nonrobust                                         \n",
            "==================================================================================================\n",
            "                                     coef    std err          t      P>|t|      [0.025      0.975]\n",
            "--------------------------------------------------------------------------------------------------\n",
            "const                           2.279e+05   7.49e+04      3.040      0.003    7.91e+04    3.77e+05\n",
            "Unemployment rate lag 1        -7161.6755   2.62e+04     -0.273      0.785   -5.92e+04    4.49e+04\n",
            "Unemployment rate lag 2         4.446e+04   2.63e+04      1.688      0.095   -7833.843    9.68e+04\n",
            "Consumer price inflation lag 1  7013.9974   9370.422      0.749      0.456   -1.16e+04    2.56e+04\n",
            "Consumer price inflation lag 2  1.602e+04   9676.956      1.656      0.101   -3192.086    3.52e+04\n",
            "==============================================================================\n",
            "Omnibus:                        6.008   Durbin-Watson:                   0.048\n",
            "Prob(Omnibus):                  0.050   Jarque-Bera (JB):                5.931\n",
            "Skew:                           0.599   Prob(JB):                       0.0515\n",
            "Kurtosis:                       2.984   Cond. No.                         26.5\n",
            "==============================================================================\n",
            "\n",
            "Notes:\n",
            "[1] Standard Errors assume that the covariance matrix of the errors is correctly specified.\n",
            "Number of observations: 99.0\n"
          ]
        }
      ],
      "source": [
        "import statsmodels.api as sm\n",
        "\n",
        "# Define independent variables (lags)\n",
        "X = df_lag[['Unemployment rate lag 1', 'Unemployment rate lag 2',\n",
        "            'Consumer price inflation lag 1', 'Consumer price inflation lag 2']]\n",
        "X = sm.add_constant(X)\n",
        "\n",
        "# Convert to numeric and drop rows with NaNs\n",
        "X = X.apply(pd.to_numeric, errors='coerce').dropna()\n",
        "\n",
        "# Define dependent variable (GDP)\n",
        "Y = df_lag['Real GDP at market prices'].apply(pd.to_numeric, errors='coerce')\n",
        "\n",
        "# Align X and Y to ensure matching indices\n",
        "X, Y = X.align(Y, join='inner', axis=0)\n",
        "\n",
        "# Fit the regression model\n",
        "model_fit = sm.OLS(Y, X).fit()\n",
        "\n",
        "# Print results\n",
        "print(model_fit.summary())\n",
        "\n",
        "# Print the number of observations\n",
        "print(f\"Number of observations: {model_fit.nobs}\")\n",
        "\n"
      ]
    },
    {
      "cell_type": "markdown",
      "metadata": {
        "id": "CljUxL4lkzOM"
      },
      "source": [
        "This occurs because lagged variables (lag 1 and lag 2) were created for the independent variables (Unemployment rate and Consumer price inflation). The creation of these variables resulted in the loss of initial rows (the first row for lag 1 and the first two rows for lag 2). All observations with missing values were discarded to ensure that the data were consistent for the regression analysis."
      ]
    },
    {
      "cell_type": "markdown",
      "metadata": {
        "id": "Rz0D0scuk-4u"
      },
      "source": [
        "---\n",
        "#### **39. State and test the no-Granger causality hypothesis of unemployment on GDP at the 1% level.**"
      ]
    },
    {
      "cell_type": "code",
      "execution_count": 167,
      "metadata": {
        "colab": {
          "base_uri": "https://localhost:8080/"
        },
        "id": "Kc9ELhvolDrH",
        "outputId": "f16c6916-4b4a-40d9-95ba-4b914ff0f8ed"
      },
      "outputs": [
        {
          "name": "stdout",
          "output_type": "stream",
          "text": [
            "Lag: 1, p-value: 0.801\n",
            "Fail to reject the null hypothesis\n",
            "\n",
            "Lag: 2, p-value: 0.013\n",
            "Fail to reject the null hypothesis\n",
            "\n",
            "Lag: 3, p-value: 0.033\n",
            "Fail to reject the null hypothesis\n",
            "\n",
            "Lag: 4, p-value: 0.030\n",
            "Fail to reject the null hypothesis\n",
            "\n",
            "Lag: 5, p-value: 0.049\n",
            "Fail to reject the null hypothesis\n",
            "\n"
          ]
        },
        {
          "name": "stderr",
          "output_type": "stream",
          "text": [
            "/usr/local/lib/python3.10/dist-packages/statsmodels/tsa/stattools.py:1556: FutureWarning: verbose is deprecated since functions should not print results\n",
            "  warnings.warn(\n"
          ]
        }
      ],
      "source": [
        "data_to_test = df[['Unemployment rate', 'Real GDP at market prices']]\n",
        "max_lags = 5  # maximum number of lags to test for Granger causality\n",
        "\n",
        "# Perform the Granger causality test\n",
        "granger_results = grangercausalitytests(data_to_test, max_lags, verbose=False)\n",
        "significance_level = 0.01\n",
        "\n",
        "# Iterate through the lags and evaluate p-values\n",
        "for lag in range(1, max_lags + 1):\n",
        "    p_val = granger_results[lag][0]['ssr_ftest'][1]  # Extract the p-value from the F-test\n",
        "    print(f'Lag: {lag}, p-value: {p_val:.3f}')\n",
        "\n",
        "    if p_val < significance_level:\n",
        "        print(f'Reject the null hypothesis\\n')\n",
        "    else:\n",
        "        print(f'Fail to reject the null hypothesis\\n')\n"
      ]
    },
    {
      "cell_type": "markdown",
      "metadata": {
        "id": "Sl0JtPbupZT6"
      },
      "source": [
        "At the 1% significance level, we fail to reject the null hypothesis that there is no Granger causality from the unemployment rate to GDP for any of the tested lags (1 to 5). This means that there is no statistically significant evidence, at the 1% level, that unemployment Granger-causes GDP."
      ]
    },
    {
      "cell_type": "markdown",
      "metadata": {
        "id": "N1KgtX5rpoW9"
      },
      "source": [
        "---\n",
        "#### **40. Divide the sample in two groups: 1900-1960 and 1961-2000. Test the stability of coefficients between the two periods.**"
      ]
    },
    {
      "cell_type": "code",
      "execution_count": 168,
      "metadata": {
        "colab": {
          "base_uri": "https://localhost:8080/"
        },
        "id": "xU3LcBHrqpWa",
        "outputId": "2f2e1746-8745-4ecf-fbb0-e9b6f7732516"
      },
      "outputs": [
        {
          "name": "stdout",
          "output_type": "stream",
          "text": [
            "T-value: -0.834\n",
            "P-value: 0.492\n"
          ]
        },
        {
          "name": "stderr",
          "output_type": "stream",
          "text": [
            "<ipython-input-168-bd50aeca9310>:14: SettingWithCopyWarning: \n",
            "A value is trying to be set on a copy of a slice from a DataFrame.\n",
            "Try using .loc[row_indexer,col_indexer] = value instead\n",
            "\n",
            "See the caveats in the documentation: https://pandas.pydata.org/pandas-docs/stable/user_guide/indexing.html#returning-a-view-versus-a-copy\n",
            "  X_first[var] = pd.to_numeric(X_first[var], errors='coerce')\n",
            "<ipython-input-168-bd50aeca9310>:17: SettingWithCopyWarning: \n",
            "A value is trying to be set on a copy of a slice from a DataFrame.\n",
            "Try using .loc[row_indexer,col_indexer] = value instead\n",
            "\n",
            "See the caveats in the documentation: https://pandas.pydata.org/pandas-docs/stable/user_guide/indexing.html#returning-a-view-versus-a-copy\n",
            "  X_second[var] = pd.to_numeric(X_second[var], errors='coerce')\n"
          ]
        }
      ],
      "source": [
        "# Divide the dataframe into two periods\n",
        "df_first_period = df[(df['Year'] >= 1900) & (df['Year'] <= 1960)]\n",
        "df_second_period = df[(df['Year'] >= 1961) & (df['Year'] <= 2000)]\n",
        "\n",
        "# Define the independent variables for each period\n",
        "X_first = df_first_period[['Unemployment rate', 'Consumer price inflation']]\n",
        "X_second = df_second_period[['Unemployment rate', 'Consumer price inflation']]\n",
        "\n",
        "# Define the dependent variable for each period\n",
        "Y_first = df_first_period['Real GDP at market prices']\n",
        "Y_second = df_second_period['Real GDP at market prices']\n",
        "\n",
        "for var in X_first.columns:\n",
        "    X_first[var] = pd.to_numeric(X_first[var], errors='coerce')\n",
        "\n",
        "for var in X_second.columns:\n",
        "    X_second[var] = pd.to_numeric(X_second[var], errors='coerce')\n",
        "\n",
        "# Y.dropna(inplace=True)\n",
        "Y_first = pd.to_numeric(Y_first, errors='coerce')\n",
        "Y_second = pd.to_numeric(Y_second, errors='coerce')\n",
        "\n",
        "# Fit regression models for each period\n",
        "model_first_period = sm.OLS(Y_first, sm.add_constant(X_first)).fit()\n",
        "model_second_period = sm.OLS(Y_second, sm.add_constant(X_second)).fit()\n",
        "\n",
        "# Compare the coefficients between the two periods\n",
        "coefs_first = model_first_period.params[1:]  # Exclude the constant term\n",
        "coefs_second = model_second_period.params[1:]  # Exclude the constant term\n",
        "\n",
        "# Test the stability of coefficients using a statistical test (e.g., t-test)\n",
        "t_stat, p_stat = ttest_ind(coefs_first, coefs_second)\n",
        "\n",
        "# Print the results\n",
        "print(f'T-value: {t_stat:.3f}')\n",
        "print(f'P-value: {p_stat:.3f}')\n"
      ]
    },
    {
      "cell_type": "markdown",
      "metadata": {
        "id": "AbHjG5sMq9B-"
      },
      "source": [
        "The null hypothesis asserts that there is no notable difference or variation in the coefficients across the two periods. In other words, the coefficients remain consistent over time. In this case, the high p-value provides strong support for the null hypothesis."
      ]
    },
    {
      "cell_type": "markdown",
      "metadata": {
        "id": "eZcKm9t6s5qz"
      },
      "source": [
        "---\n",
        "#### **41. Test the structural breakpoint using a trim ratio of 30% at the 1% level.**"
      ]
    },
    {
      "cell_type": "code",
      "execution_count": 169,
      "metadata": {
        "colab": {
          "base_uri": "https://localhost:8080/"
        },
        "id": "iYHMD7_wtsmi",
        "outputId": "dc27eace-6e4f-49d7-b1ca-0710ec6d458f"
      },
      "outputs": [
        {
          "name": "stdout",
          "output_type": "stream",
          "text": [
            "Chow test statistic: 7.364\n",
            "P-value: 0.001\n",
            "Reject the null hypothesis\n",
            "\n"
          ]
        }
      ],
      "source": [
        "# Define the trim ratio\n",
        "split_ratio = 0.3\n",
        "\n",
        "# Split the data into two subsamples\n",
        "total_obs = len(df)\n",
        "split_index = int(split_ratio * total_obs)\n",
        "\n",
        "X_first = df[['Unemployment rate', 'Consumer price inflation']].iloc[:split_index]\n",
        "X_second = df[['Unemployment rate', 'Consumer price inflation']].iloc[split_index:]\n",
        "\n",
        "Y_first = df['Real GDP at market prices'].iloc[:split_index]\n",
        "Y_second = df['Real GDP at market prices'].iloc[split_index:]\n",
        "\n",
        "for var in X_first.columns:\n",
        "    X_first[var] = pd.to_numeric(X_first[var], errors='coerce')\n",
        "\n",
        "for var in X_second.columns:\n",
        "    X_second[var] = pd.to_numeric(X_second[var], errors='coerce')\n",
        "\n",
        "Y_first = pd.to_numeric(Y_first, errors='coerce')\n",
        "Y_second = pd.to_numeric(Y_second, errors='coerce')\n",
        "\n",
        "# Fit the regression models for each subsample\n",
        "regression_model1 = sm.OLS(Y_first, sm.add_constant(X_first)).fit()\n",
        "regression_model2 = sm.OLS(Y_second, sm.add_constant(X_second)).fit()\n",
        "\n",
        "# Calculate the sum of squared residuals for each model\n",
        "residual_sum1 = np.sum(regression_model1.resid ** 2)\n",
        "residual_sum2 = np.sum(regression_model2.resid ** 2)\n",
        "\n",
        "# Calculate the total sum of squared residuals\n",
        "total_residual_sum = np.sum((Y_first - np.mean(Y_first)) ** 2) + np.sum((Y_second - np.mean(Y_second)) ** 2)\n",
        "\n",
        "num_params = 2  # number of parameters\n",
        "adjusted_obs = total_obs - 4  # number of observations minus the number of parameters\n",
        "# Calculate the Chow test statistic\n",
        "chow_test_stat = ((total_residual_sum - (residual_sum1 + residual_sum2)) / num_params) / ((residual_sum1 + residual_sum2) / adjusted_obs)\n",
        "\n",
        "# Calculate the p-value using the F-distribution\n",
        "p_val = 1 - f.cdf(chow_test_stat, 2, total_obs - 4)\n",
        "significance_level = 0.01\n",
        "\n",
        "# Print the results\n",
        "print(f'Chow test statistic: {chow_test_stat:.3f}')\n",
        "print(f'P-value: {p_val:.3f}')\n",
        "\n",
        "if p_val < significance_level:\n",
        "    print(f'Reject the null hypothesis\\n')\n",
        "else:\n",
        "    print(f'Fail to reject the null hypothesis\\n')\n"
      ]
    },
    {
      "cell_type": "markdown",
      "metadata": {
        "id": "t6DVU4qGuwyi"
      },
      "source": [
        "---\n",
        "#### **42. Divide the sample into 3 periods of equal length. Test that the coefficients of the second and the third periods are equal. Formulate the null hypothesis and interpret your results.**"
      ]
    },
    {
      "cell_type": "code",
      "execution_count": 170,
      "metadata": {
        "colab": {
          "base_uri": "https://localhost:8080/"
        },
        "id": "KkM6XhiXusAh",
        "outputId": "912977f0-5c6f-4e33-8b75-bf9c08d74082"
      },
      "outputs": [
        {
          "name": "stdout",
          "output_type": "stream",
          "text": [
            "Hypothesis Test Results:\n",
            "T-value: -0.746\n",
            "P-value: 0.533\n",
            "Fail to reject the null hypothesis: Coefficients of periods 2 and 3 are not significantly different.\n"
          ]
        },
        {
          "name": "stderr",
          "output_type": "stream",
          "text": [
            "<ipython-input-170-0b9594518c1a>:24: SettingWithCopyWarning: \n",
            "A value is trying to be set on a copy of a slice from a DataFrame.\n",
            "Try using .loc[row_indexer,col_indexer] = value instead\n",
            "\n",
            "See the caveats in the documentation: https://pandas.pydata.org/pandas-docs/stable/user_guide/indexing.html#returning-a-view-versus-a-copy\n",
            "  X_period2[column] = pd.to_numeric(X_period2[column], errors='coerce')\n",
            "<ipython-input-170-0b9594518c1a>:27: SettingWithCopyWarning: \n",
            "A value is trying to be set on a copy of a slice from a DataFrame.\n",
            "Try using .loc[row_indexer,col_indexer] = value instead\n",
            "\n",
            "See the caveats in the documentation: https://pandas.pydata.org/pandas-docs/stable/user_guide/indexing.html#returning-a-view-versus-a-copy\n",
            "  X_period3[column] = pd.to_numeric(X_period3[column], errors='coerce')\n"
          ]
        }
      ],
      "source": [
        "import numpy as np\n",
        "import pandas as pd\n",
        "import statsmodels.api as sm\n",
        "from scipy.stats import ttest_ind\n",
        "\n",
        "# Dividir a amostra em 3 períodos de comprimento igual\n",
        "n = len(df)\n",
        "period_length = n // 3\n",
        "\n",
        "# Criar os DataFrames para os três períodos\n",
        "df_period1 = df.iloc[:period_length]\n",
        "df_period2 = df.iloc[period_length:2 * period_length]\n",
        "df_period3 = df.iloc[2 * period_length:]\n",
        "\n",
        "# Definir as variáveis independentes e dependentes para os períodos 2 e 3\n",
        "X_period2 = df_period2[['Unemployment rate', 'Consumer price inflation']]\n",
        "X_period3 = df_period3[['Unemployment rate', 'Consumer price inflation']]\n",
        "\n",
        "Y_period2 = df_period2['Real GDP at market prices']\n",
        "Y_period3 = df_period3['Real GDP at market prices']\n",
        "\n",
        "# Converter as colunas para numérico\n",
        "for column in X_period2.columns:\n",
        "    X_period2[column] = pd.to_numeric(X_period2[column], errors='coerce')\n",
        "\n",
        "for column in X_period3.columns:\n",
        "    X_period3[column] = pd.to_numeric(X_period3[column], errors='coerce')\n",
        "\n",
        "Y_period2 = pd.to_numeric(Y_period2, errors='coerce')\n",
        "Y_period3 = pd.to_numeric(Y_period3, errors='coerce')\n",
        "\n",
        "# Ajustar os modelos de regressão para os períodos 2 e 3\n",
        "model_period2 = sm.OLS(Y_period2, sm.add_constant(X_period2)).fit()\n",
        "model_period3 = sm.OLS(Y_period3, sm.add_constant(X_period3)).fit()\n",
        "\n",
        "# Extrair os coeficientes, excluindo o termo constante\n",
        "coefficients_period2 = model_period2.params[1:]  # Exclui a constante\n",
        "coefficients_period3 = model_period3.params[1:]  # Exclui a constante\n",
        "\n",
        "# Realizar o teste t para comparar os coeficientes\n",
        "t_value, p_value = ttest_ind(coefficients_period2, coefficients_period3)\n",
        "\n",
        "# Imprimir os resultados\n",
        "print(\"Hypothesis Test Results:\")\n",
        "print(f\"T-value: {t_value:.3f}\")\n",
        "print(f\"P-value: {p_value:.3f}\")\n",
        "\n",
        "# Formular a hipótese nula\n",
        "alpha = 0.05\n",
        "if p_value < alpha:\n",
        "    print(\"Reject the null hypothesis: Coefficients of periods 2 and 3 are significantly different.\")\n",
        "else:\n",
        "    print(\"Fail to reject the null hypothesis: Coefficients of periods 2 and 3 are not significantly different.\")\n"
      ]
    }
  ],
  "metadata": {
    "colab": {
      "provenance": []
    },
    "kernelspec": {
      "display_name": "Python 3",
      "language": "python",
      "name": "python3"
    },
    "language_info": {
      "codemirror_mode": {
        "name": "ipython",
        "version": 3
      },
      "file_extension": ".py",
      "mimetype": "text/x-python",
      "name": "python",
      "nbconvert_exporter": "python",
      "pygments_lexer": "ipython3",
      "version": "3.11.9"
    }
  },
  "nbformat": 4,
  "nbformat_minor": 0
}
